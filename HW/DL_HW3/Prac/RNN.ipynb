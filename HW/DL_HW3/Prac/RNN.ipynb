{
  "cells": [
    {
      "cell_type": "markdown",
      "metadata": {
        "id": "I44zC-xvHlMA"
      },
      "source": [
        "# Initializatoin"
      ]
    },
    {
      "cell_type": "code",
      "execution_count": 1,
      "metadata": {
        "colab": {
          "base_uri": "https://localhost:8080/"
        },
        "id": "J51gwQryHLou",
        "outputId": "d3b3b4eb-ca93-40bb-a8f8-1261c957d388"
      },
      "outputs": [
        {
          "name": "stdout",
          "output_type": "stream",
          "text": [
            "Mounted at /content/drive\n"
          ]
        }
      ],
      "source": [
        "from google.colab import drive\n",
        "drive.mount('/content/drive')"
      ]
    },
    {
      "cell_type": "code",
      "execution_count": 2,
      "metadata": {
        "colab": {
          "base_uri": "https://localhost:8080/"
        },
        "id": "dIEtvDuNHWaX",
        "outputId": "8b5f7fb7-7c93-4537-c944-395a77ef9264"
      },
      "outputs": [
        {
          "name": "stdout",
          "output_type": "stream",
          "text": [
            "/content/drive/.shortcut-targets-by-id/1Zna1suVlMaqbr-umhS-czb-knCu-xeVp/AI/Deep Learning/DL/HW3\n"
          ]
        }
      ],
      "source": [
        "cd /content/drive/MyDrive/AI/Deep Learning/DL/HW3/"
      ]
    },
    {
      "cell_type": "code",
      "execution_count": 3,
      "metadata": {
        "colab": {
          "base_uri": "https://localhost:8080/"
        },
        "id": "KYIVJhA5Df_a",
        "outputId": "0cc0f53c-007f-494e-b56d-0cb9baece5c8"
      },
      "outputs": [
        {
          "data": {
            "text/plain": [
              "device(type='cuda')"
            ]
          },
          "execution_count": 3,
          "metadata": {},
          "output_type": "execute_result"
        }
      ],
      "source": [
        "import torch\n",
        "device = torch.device(\"cuda\" if torch.cuda.is_available() else \"cpu\")\n",
        "device"
      ]
    },
    {
      "cell_type": "markdown",
      "metadata": {
        "id": "97npt38AHmeG"
      },
      "source": [
        "## Imports"
      ]
    },
    {
      "cell_type": "code",
      "execution_count": 4,
      "metadata": {
        "id": "6GV6VNwvHfAu"
      },
      "outputs": [],
      "source": [
        "import math\n",
        "import matplotlib.pyplot as plt\n",
        "import matplotlib.ticker as ticker\n",
        "import numpy as np\n",
        "import torch\n",
        "import torch.nn as nn\n",
        "import torch.nn.functional as F\n",
        "import torchvision.datasets as datasets\n",
        "import torchvision.transforms as transforms\n",
        "import matplotlib.pyplot as plt\n",
        "\n",
        "from torch.autograd import Variable\n",
        "from torch.nn import Parameter\n",
        "\n",
        "import sklearn.metrics as metrics\n",
        "\n",
        "from tensorflow.keras.utils import to_categorical\n",
        "from keras.preprocessing.sequence import pad_sequences\n",
        "from keras.preprocessing.text import Tokenizer\n",
        "\n",
        "# from name_dataset import Dataset"
      ]
    },
    {
      "cell_type": "markdown",
      "metadata": {
        "id": "LkG3yH-pHpM9"
      },
      "source": [
        "# RNN"
      ]
    },
    {
      "cell_type": "markdown",
      "metadata": {
        "id": "iZ0KcfjJISHg"
      },
      "source": [
        "## Traditional RNN"
      ]
    },
    {
      "cell_type": "markdown",
      "metadata": {
        "id": "Kg5D637YdXA3"
      },
      "source": [
        "In the introductory section, we delve into the architecture of Recurrent Neural Networks (RNNs) and elucidate their training methodologies. To gain a deeper understanding of RNNs, you're encouraged to explore further [HERE](https://stanford.edu/~shervine/teaching/cs-230/cheatsheet-recurrent-neural-network)\n",
        "\n",
        "For the task at hand, you've been furnished with the Names dataset, a compilation comprising thousands of surnames from 18 distinct languages of origin. Your objective is to prognosticate the language of origin for a given name, relying solely on its orthography. Your task primarily involves implementing the section demarcated by `#your_code`."
      ]
    },
    {
      "cell_type": "code",
      "execution_count": null,
      "metadata": {
        "colab": {
          "base_uri": "https://localhost:8080/"
        },
        "id": "HSphx1YaaNl0",
        "outputId": "7e9cb9fb-50c4-4af9-80ac-b075d4dc5670"
      },
      "outputs": [
        {
          "name": "stdout",
          "output_type": "stream",
          "text": [
            "Error occurred while downloading data.zip: --2024-04-11 07:55:47--  https://download.pytorch.org/tutorial/data.zip\n",
            "Resolving download.pytorch.org (download.pytorch.org)... 18.65.3.63, 18.65.3.37, 18.65.3.38, ...\n",
            "Connecting to download.pytorch.org (download.pytorch.org)|18.65.3.63|:443... connected.\n",
            "HTTP request sent, awaiting response... 200 OK\n",
            "Length: 2882130 (2.7M) [application/zip]\n",
            "Saving to: ‘data.zip’\n",
            "\n",
            "     0K .......... .......... .......... .......... ..........  1% 7.87M 0s\n",
            "    50K .......... .......... .......... .......... ..........  3% 9.28M 0s\n",
            "   100K .......... .......... .......... .......... ..........  5% 24.4M 0s\n",
            "   150K .......... .......... .......... .......... ..........  7% 17.4M 0s\n",
            "   200K .......... .......... .......... .......... ..........  8% 23.8M 0s\n",
            "   250K .......... .......... .......... .......... .......... 10% 41.8M 0s\n",
            "   300K .......... .......... .......... .......... .......... 12% 32.3M 0s\n",
            "   350K .......... .......... .......... .......... .......... 14% 36.1M 0s\n",
            "   400K .......... .......... .......... .......... .......... 15% 43.7M 0s\n",
            "   450K .......... .......... .......... .......... .......... 17% 42.8M 0s\n",
            "   500K .......... .......... .......... .......... .......... 19% 22.9M 0s\n",
            "   550K .......... .......... .......... .......... .......... 21% 46.2M 0s\n",
            "   600K .......... .......... .......... .......... .......... 23% 37.7M 0s\n",
            "   650K .......... .......... .......... .......... .......... 24% 46.0M 0s\n",
            "   700K .......... .......... .......... .......... .......... 26% 41.7M 0s\n",
            "   750K .......... .......... .......... .......... .......... 28% 40.1M 0s\n",
            "   800K .......... .......... .......... .......... .......... 30% 40.3M 0s\n",
            "   850K .......... .......... .......... .......... .......... 31% 35.1M 0s\n",
            "   900K .......... .......... .......... .......... .......... 33% 43.6M 0s\n",
            "   950K .......... .......... .......... .......... .......... 35% 44.6M 0s\n",
            "  1000K .......... .......... .......... .......... .......... 37% 26.5M 0s\n",
            "  1050K .......... .......... .......... .......... .......... 39% 56.1M 0s\n",
            "  1100K .......... .......... .......... .......... .......... 40% 55.6M 0s\n",
            "  1150K .......... .......... .......... .......... .......... 42% 54.4M 0s\n",
            "  1200K .......... .......... .......... .......... .......... 44% 60.6M 0s\n",
            "  1250K .......... .......... .......... .......... .......... 46% 51.6M 0s\n",
            "  1300K .......... .......... .......... .......... .......... 47% 57.0M 0s\n",
            "  1350K .......... .......... .......... .......... .......... 49% 48.3M 0s\n",
            "  1400K .......... .......... .......... .......... .......... 51% 49.7M 0s\n",
            "  1450K .......... .......... .......... .......... .......... 53% 44.3M 0s\n",
            "  1500K .......... .......... .......... .......... .......... 55% 49.1M 0s\n",
            "  1550K .......... .......... .......... .......... .......... 56% 6.57M 0s\n",
            "  1600K .......... .......... .......... .......... .......... 58% 40.6M 0s\n",
            "  1650K .......... .......... .......... .......... .......... 60% 53.5M 0s\n",
            "  1700K .......... .......... .......... .......... .......... 62% 56.2M 0s\n",
            "  1750K .......... .......... .......... .......... .......... 63% 52.2M 0s\n",
            "  1800K .......... .......... .......... .......... .......... 65% 55.7M 0s\n",
            "  1850K .......... .......... .......... .......... .......... 67% 53.5M 0s\n",
            "  1900K .......... .......... .......... .......... .......... 69% 49.3M 0s\n",
            "  1950K .......... .......... .......... .......... .......... 71% 47.0M 0s\n",
            "  2000K .......... .......... .......... .......... .......... 72% 50.1M 0s\n",
            "  2050K .......... .......... .......... .......... .......... 74% 25.6M 0s\n",
            "  2100K .......... .......... .......... .......... .......... 76% 49.4M 0s\n",
            "  2150K .......... .......... .......... .......... .......... 78% 54.3M 0s\n",
            "  2200K .......... .......... .......... .......... .......... 79% 51.2M 0s\n",
            "  2250K .......... .......... .......... .......... .......... 81% 53.4M 0s\n",
            "  2300K .......... .......... .......... .......... .......... 83% 52.9M 0s\n",
            "  2350K .......... .......... .......... .......... .......... 85% 55.3M 0s\n",
            "  2400K .......... .......... .......... .......... .......... 87% 57.6M 0s\n",
            "  2450K .......... .......... .......... .......... .......... 88% 47.6M 0s\n",
            "  2500K .......... .......... .......... .......... .......... 90% 53.8M 0s\n",
            "  2550K .......... .......... .......... .......... .......... 92% 29.1M 0s\n",
            "  2600K .......... .......... .......... .......... .......... 94% 55.9M 0s\n",
            "  2650K .......... .......... .......... .......... .......... 95% 47.4M 0s\n",
            "  2700K .......... .......... .......... .......... .......... 97% 54.5M 0s\n",
            "  2750K .......... .......... .......... .......... .......... 99% 58.5M 0s\n",
            "  2800K .......... ....                                       100% 44.4M=0.08s\n",
            "\n",
            "2024-04-11 07:55:47 (34.1 MB/s) - ‘data.zip’ saved [2882130/2882130]\n",
            "\n",
            "\n",
            "Unzipped data.zip successfully.\n",
            "category = Scottish - random name = Allan\n",
            "category = Russian - random name = Levit\n",
            "category = English - random name = Povey\n",
            "category = French - random name = Travere\n",
            "category = English - random name = Cousins\n",
            "category = Dutch - random name = Berg\n",
            "category = Japanese - random name = Kido\n",
            "category = Polish - random name = Jedynak\n",
            "category = Chinese - random name = Duan\n",
            "category = German - random name = Wyman\n"
          ]
        }
      ],
      "source": [
        "dataset = Dataset()\n",
        "for i in range(10):\n",
        "    category, line, _, _ = dataset.randomTrainingExample()\n",
        "    print('category =', category, '- random name =', line)"
      ]
    },
    {
      "cell_type": "code",
      "execution_count": null,
      "metadata": {
        "id": "9Wusl6Uta5CY"
      },
      "outputs": [],
      "source": [
        "class RNN(nn.Module):\n",
        "    def __init__(self, input_size, hidden_size, output_size):\n",
        "        super(RNN, self).__init__()\n",
        "\n",
        "        #your_code\n",
        "        self.hidden_size = hidden_size\n",
        "        self.i2h = nn.Linear(input_size + hidden_size, hidden_size)\n",
        "        self.h2o = nn.Linear(hidden_size, output_size)\n",
        "        self.softmax = nn.LogSoftmax(dim=1)\n",
        "\n",
        "    def forward(self, input, hidden):\n",
        "\n",
        "        #your_code\n",
        "        combined = torch.cat((input, hidden), 1)\n",
        "        hidden = self.i2h(combined)\n",
        "        output = self.h2o(hidden)\n",
        "        output = self.softmax(output)\n",
        "        return output, hidden\n",
        "\n",
        "    def initHidden(self):\n",
        "        return torch.zeros(1, self.hidden_size)\n",
        "\n",
        "n_hidden = 128\n",
        "n_letters = dataset.n_letters\n",
        "n_categories = dataset.n_categories\n",
        "rnn = RNN(n_letters, n_hidden, n_categories)"
      ]
    },
    {
      "cell_type": "code",
      "execution_count": null,
      "metadata": {
        "id": "xlvoUSDFY-r7"
      },
      "outputs": [],
      "source": [
        "#your_code\n",
        "criterion = nn.NLLLoss()\n",
        "learning_rate = 1e-3\n",
        "\n",
        "def train(category_tensor, name_tensor):\n",
        "    hidden = rnn.initHidden()\n",
        "    rnn.zero_grad()\n",
        "\n",
        "    #your_code\n",
        "    for i in range(name_tensor.size()[0]):\n",
        "        output, hidden = rnn(name_tensor[i], hidden)\n",
        "\n",
        "    loss = criterion(output, category_tensor)\n",
        "    loss.backward()\n",
        "\n",
        "    # Add parameters' gradients to their values, multiplied by learning rate\n",
        "    for p in rnn.parameters():\n",
        "        p.data.add_(p.grad.data, alpha=-learning_rate)\n",
        "\n",
        "    return output, loss.item()"
      ]
    },
    {
      "cell_type": "markdown",
      "metadata": {
        "id": "n6A3nYNgoVfZ"
      },
      "source": [
        "And here you can train your model and see it's performance after each 5000 iterations"
      ]
    },
    {
      "cell_type": "code",
      "execution_count": null,
      "metadata": {
        "colab": {
          "base_uri": "https://localhost:8080/",
          "height": 794
        },
        "id": "BIaxje6AsqKM",
        "outputId": "3cca2793-73d5-40d5-ead4-bc1e71db76dc"
      },
      "outputs": [
        {
          "name": "stdout",
          "output_type": "stream",
          "text": [
            "5000 5% 2.8690 Ramirez is predicted as a \"Greek\" name, status = ✗ (Spanish)\n",
            "10000 10% 2.8819 Horn is predicted as a \"Irish\" name, status = ✗ (German)\n",
            "15000 15% 2.7653 Germain is predicted as a \"Irish\" name, status = ✗ (French)\n",
            "20000 20% 2.6862 Arechavaleta is predicted as a \"Japanese\" name, status = ✗ (Spanish)\n",
            "25000 25% 2.7506 Hughes is predicted as a \"Arabic\" name, status = ✗ (Scottish)\n",
            "30000 30% 3.7782 Banderas is predicted as a \"Greek\" name, status = ✗ (Spanish)\n",
            "35000 35% 2.6481 Moles is predicted as a \"Portuguese\" name, status = ✗ (Spanish)\n",
            "40000 40% 2.4365 Miller is predicted as a \"German\" name, status = ✗ (Scottish)\n",
            "45000 45% 2.5898 Kill is predicted as a \"Arabic\" name, status = ✗ (English)\n",
            "50000 50% 0.3161 Komagata is predicted as a \"Japanese\" name, status = ✓\n",
            "55000 55% 3.7677 Augustin is predicted as a \"Russian\" name, status = ✗ (French)\n",
            "60000 60% 1.5344 Salcedo is predicted as a \"Italian\" name, status = ✗ (Spanish)\n",
            "65000 65% 0.3479 Winogrodzki is predicted as a \"Polish\" name, status = ✓\n",
            "70000 70% 2.0719 Liddle is predicted as a \"French\" name, status = ✗ (English)\n",
            "75000 75% 1.0194 Yanovsky is predicted as a \"Polish\" name, status = ✗ (Russian)\n",
            "80000 80% 2.3685 Vesin is predicted as a \"Scottish\" name, status = ✗ (Russian)\n",
            "85000 85% 0.2058 Pavoni is predicted as a \"Italian\" name, status = ✓\n",
            "90000 90% 0.4400 Oyama is predicted as a \"Japanese\" name, status = ✓\n",
            "95000 95% 4.0164 Power is predicted as a \"German\" name, status = ✗ (Irish)\n",
            "100000 100% 1.4358 Dieter is predicted as a \"German\" name, status = ✓\n"
          ]
        },
        {
          "data": {
            "text/plain": [
              "[<matplotlib.lines.Line2D at 0x7a2767880460>]"
            ]
          },
          "execution_count": 7,
          "metadata": {},
          "output_type": "execute_result"
        },
        {
          "data": {
            "image/png": "[encoded data removed]",
            "text/plain": [
              "<Figure size 640x480 with 1 Axes>"
            ]
          },
          "metadata": {},
          "output_type": "display_data"
        }
      ],
      "source": [
        "n_iters = 100000\n",
        "print_every = 5000\n",
        "\n",
        "current_loss = 0\n",
        "all_losses = []\n",
        "\n",
        "for iter in range(1, n_iters + 1):\n",
        "    category, line, category_tensor, line_tensor = dataset.randomTrainingExample()\n",
        "    output, loss = train(category_tensor, line_tensor)\n",
        "    current_loss += loss\n",
        "\n",
        "    if iter % print_every == 0:\n",
        "        guess, _ = dataset.categoryFromOutput(output)\n",
        "        correct = '✓' if guess == category else '✗ (%s)' % category\n",
        "        print('%d %d%% %.4f %s is predicted as a \"%s\" name, status = %s' % (iter, iter / n_iters * 100, loss, line, guess, correct))\n",
        "\n",
        "    if iter % 1000 == 0:\n",
        "        all_losses.append(current_loss / 1000)\n",
        "        current_loss = 0\n",
        "\n",
        "plt.figure()\n",
        "plt.plot(all_losses)"
      ]
    },
    {
      "cell_type": "markdown",
      "metadata": {
        "id": "N3DfTyhGIF2P"
      },
      "source": [
        "## Traditional RNN Disadvantages"
      ]
    },
    {
      "cell_type": "markdown",
      "metadata": {
        "id": "RSBnM7WbNv_T"
      },
      "source": [
        "In this part, we aim to delve into the limitations of traditional RNNs:\n",
        "1.   Recurrent computation is slow\n",
        "2.   They have difficulty accessing information from many steps back.\n",
        "\n",
        "You are provided with a simple code that helps you to give the idea better. By modifying this code, you are able to demonstrate the mentioned disadvantages, but you are also free to change the code if needed or use any dataset you want.\n",
        "\n",
        "**Question:** Do you think using GPU instead of CPU completely solves the first problem?\n",
        "- Using a GPU instead of a CPU can significantly improve the performance of traditional RNNs by speeding up matrix operations and handling large datasets more efficiently, thanks to their parallel processing capabilities. However, GPUs do not completely solve the problem of slow recurrent computation inherent in RNNs. This is because RNNs process data sequentially, creating a dependency chain that cannot be fully parallelized, even on GPUs. While GPUs reduce computation time per step, they cannot parallelize across the steps themselves\n",
        "\n",
        "Note: The main goal of this part is to help you understand these problems better. Don't be too hard to implement and delivery."
      ]
    },
    {
      "cell_type": "code",
      "execution_count": null,
      "metadata": {
        "colab": {
          "base_uri": "https://localhost:8080/",
          "height": 604
        },
        "id": "Gmv3e7fpQiRD",
        "outputId": "fa0a5dcc-6f66-40b7-e12a-66e65a4192b9"
      },
      "outputs": [
        {
          "name": "stdout",
          "output_type": "stream",
          "text": [
            "Epoch [10/100], Loss: 1.3412\n",
            "Epoch [20/100], Loss: 1.2296\n",
            "Epoch [30/100], Loss: 1.1344\n",
            "Epoch [40/100], Loss: 1.0483\n",
            "Epoch [50/100], Loss: 0.9662\n",
            "Epoch [60/100], Loss: 0.8835\n",
            "Epoch [70/100], Loss: 0.7939\n",
            "Epoch [80/100], Loss: 0.6884\n",
            "Epoch [90/100], Loss: 0.5580\n",
            "Epoch [100/100], Loss: 0.4063\n"
          ]
        },
        {
          "data": {
            "image/png": "[encoded data removed]",
            "text/plain": [
              "<Figure size 640x480 with 1 Axes>"
            ]
          },
          "metadata": {},
          "output_type": "display_data"
        }
      ],
      "source": [
        "import torch\n",
        "import torch.nn as nn\n",
        "import numpy as np\n",
        "import matplotlib.pyplot as plt\n",
        "\n",
        "# Generate sinusoidal temperature data with decreasing range over time\n",
        "np.random.seed(0)\n",
        "num_periods = 50\n",
        "timesteps_per_period = 10\n",
        "total_timesteps = num_periods * timesteps_per_period\n",
        "\n",
        "# Generate decreasing factor\n",
        "decreasing_factor = np.linspace(1, 0.1, total_timesteps)\n",
        "\n",
        "# Generate temperature data with decreasing sinusoidal range\n",
        "temperature_data = np.sin(np.linspace(0, 2*np.pi*num_periods, total_timesteps)) * decreasing_factor\n",
        "\n",
        "# Normalize the data\n",
        "temperature_data = (temperature_data - np.mean(temperature_data)) / np.std(temperature_data)\n",
        "\n",
        "# Convert numpy array to PyTorch tensor\n",
        "temperature_data = torch.tensor(temperature_data, dtype=torch.float32).view(-1, 1)\n",
        "\n",
        "# Define function to create dataset with sinusoidal pattern\n",
        "def create_dataset(data, seq_length):\n",
        "    X, Y = [], []\n",
        "    for i in range(len(data) - seq_length):\n",
        "        seq_in = data[i:i+seq_length]\n",
        "        seq_out = data[i+seq_length]\n",
        "        X.append(seq_in)\n",
        "        Y.append(seq_out)\n",
        "    return torch.stack(X), torch.stack(Y)\n",
        "\n",
        "# Define sequence length and create dataset\n",
        "sequence_length = 10  # Number of previous days to look at for prediction\n",
        "X, Y = create_dataset(temperature_data, sequence_length)\n",
        "\n",
        "# Split the dataset into train and test sets\n",
        "train_size = int(0.8 * len(X))\n",
        "test_size = len(X) - train_size\n",
        "X_train, X_test = X[:train_size], X[train_size:]\n",
        "Y_train, Y_test = Y[:train_size], Y[train_size:]\n",
        "\n",
        "# Define RNN model\n",
        "class SimpleRNN(nn.Module):\n",
        "    def __init__(self, input_size, hidden_size, output_size):\n",
        "        super(SimpleRNN, self).__init__()\n",
        "        self.rnn = nn.RNN(input_size, hidden_size, batch_first=True)\n",
        "        self.fc = nn.Linear(hidden_size, output_size)\n",
        "\n",
        "    def forward(self, x):\n",
        "        out, _ = self.rnn(x)\n",
        "        out = self.fc(out[:, -1, :])\n",
        "        return out\n",
        "\n",
        "# Define model parameters\n",
        "input_size = 1\n",
        "hidden_size = 10\n",
        "output_size = 1\n",
        "\n",
        "# Instantiate the model\n",
        "model = SimpleRNN(input_size, hidden_size, output_size)\n",
        "\n",
        "# Define loss function and optimizer\n",
        "criterion = nn.MSELoss()\n",
        "optimizer = torch.optim.Adam(model.parameters(), lr=0.001)\n",
        "\n",
        "# Train the model\n",
        "num_epochs = 100\n",
        "for epoch in range(num_epochs):\n",
        "    model.train()\n",
        "    outputs = model(X_train)\n",
        "    loss = criterion(outputs, Y_train)\n",
        "    optimizer.zero_grad()\n",
        "    loss.backward()\n",
        "    optimizer.step()\n",
        "\n",
        "    if (epoch+1) % 10 == 0:\n",
        "        print(f'Epoch [{epoch+1}/{num_epochs}], Loss: {loss.item():.4f}')\n",
        "\n",
        "# Evaluate the model\n",
        "model.eval()\n",
        "with torch.no_grad():\n",
        "    test_predictions = model(X_test)\n",
        "\n",
        "# Plot actual vs predicted\n",
        "plt.plot(Y_test.numpy(), label='Actual')\n",
        "plt.plot(test_predictions.numpy(), label='Predicted')\n",
        "plt.legend()\n",
        "plt.show()"
      ]
    },
    {
      "cell_type": "markdown",
      "metadata": {
        "id": "eOzchEUJ0k2E"
      },
      "source": [
        "# LSTM Preparation"
      ]
    },
    {
      "cell_type": "markdown",
      "metadata": {
        "id": "1BlfuzGF6jDM"
      },
      "source": [
        "Now that you have experience with traditional RNNs, it's time to implement the LSTM model. Your goal is to implement the cell and model for LSTM architecture. The proposed dataset for this section is MNIST, allowing you to focus solely on model implementation."
      ]
    },
    {
      "cell_type": "code",
      "execution_count": null,
      "metadata": {
        "id": "FB_MpK06uB9G"
      },
      "outputs": [],
      "source": [
        "train_dataset = datasets.MNIST(root='./data',\n",
        "                               train=True,\n",
        "                               transform=transforms.ToTensor(),\n",
        "                               download=True)\n",
        "\n",
        "test_dataset = datasets.MNIST(root='./data',\n",
        "                              train=False,\n",
        "                              transform=transforms.ToTensor())\n",
        "\n",
        "batch_size = 128\n",
        "n_iters = 6000\n",
        "num_epochs = int(n_iters / (len(train_dataset) / batch_size))"
      ]
    },
    {
      "cell_type": "code",
      "execution_count": null,
      "metadata": {
        "id": "oen0qO_nuLks"
      },
      "outputs": [],
      "source": [
        "train_loader = torch.utils.data.DataLoader(dataset=train_dataset,\n",
        "                                           batch_size=batch_size,\n",
        "                                           shuffle=True)\n",
        "\n",
        "test_loader = torch.utils.data.DataLoader(dataset=test_dataset,\n",
        "                                          batch_size=batch_size,\n",
        "                                          shuffle=False)"
      ]
    },
    {
      "cell_type": "markdown",
      "metadata": {
        "id": "9033G0tvJnjk"
      },
      "source": [
        "## LSTM Cells"
      ]
    },
    {
      "cell_type": "code",
      "execution_count": null,
      "metadata": {
        "id": "5Lp0K-CCxgPn"
      },
      "outputs": [],
      "source": [
        "class LSTMCell(nn.Module):\n",
        "    def __init__(self, input_size, hidden_size, bias=True):\n",
        "        super(LSTMCell, self).__init__()\n",
        "        self.input_size = input_size\n",
        "        self.hidden_size = hidden_size\n",
        "        self.bias = bias\n",
        "\n",
        "        self.xh = nn.Linear(input_size, hidden_size * 4, bias=bias)\n",
        "        self.hh = nn.Linear(hidden_size, hidden_size * 4, bias=bias)\n",
        "        self.reset_parameters()\n",
        "\n",
        "    def reset_parameters(self):\n",
        "        std = 1.0 / np.sqrt(self.hidden_size)\n",
        "        for w in self.parameters():\n",
        "            w.data.uniform_(-std, std)\n",
        "\n",
        "    def forward(self, input, hx=None):\n",
        "\n",
        "        # Inputs:\n",
        "        #       input: (batch_size, input_size)\n",
        "        #       hx: (batch_size, hidden_size)\n",
        "        # Outputs:\n",
        "        #       hy: (batch_size, hidden_size)\n",
        "        #       cy: (batch_size, hidden_size)\n",
        "\n",
        "        if hx is None:\n",
        "            hx = Variable(input.new_zeros(input.size(0), self.hidden_size)).to(input.device)\n",
        "            hx = (hx, hx)\n",
        "\n",
        "        hx, cx = hx\n",
        "\n",
        "        # your code\n",
        "        gates = self.xh(input) + self.hh(hx)\n",
        "        input_gate, forget_gate, cell_gate, output_gate = gates.chunk(4, 1)\n",
        "\n",
        "        i_t = nn.functional.sigmoid(input_gate)\n",
        "        f_t = nn.functional.sigmoid(forget_gate)\n",
        "        g_t = nn.functional.sigmoid(cell_gate)\n",
        "        o_t = nn.functional.sigmoid(output_gate)\n",
        "\n",
        "        cy = cx * f_t + i_t * g_t\n",
        "        hy = o_t * nn.functional.tanh(cy)\n",
        "\n",
        "        return (hy, cy)"
      ]
    },
    {
      "cell_type": "markdown",
      "metadata": {
        "id": "iTxgK6zgKgYs"
      },
      "source": [
        "## LSTM Models"
      ]
    },
    {
      "cell_type": "code",
      "execution_count": null,
      "metadata": {
        "id": "g75EeAJauUzn"
      },
      "outputs": [],
      "source": [
        "class LSTMModel(nn.Module):\n",
        "    def __init__(self, input_dim, hidden_dim, layer_dim, output_dim):\n",
        "        super(LSTMModel, self).__init__()\n",
        "\n",
        "        self.hidden_dim = hidden_dim\n",
        "        self.layer_dim = layer_dim\n",
        "\n",
        "        self.lstm = LSTMCell(input_dim, hidden_dim, layer_dim)\n",
        "\n",
        "        self.fc = nn.Linear(hidden_dim, output_dim)\n",
        "\n",
        "\n",
        "\n",
        "    def forward(self, x):\n",
        "\n",
        "        # Initialize hidden state with zeros\n",
        "        h0 = Variable(torch.zeros(self.layer_dim, x.size(0), self.hidden_dim)).to(x.device)\n",
        "        c0 = Variable(torch.zeros(self.layer_dim, x.size(0), self.hidden_dim)).to(x.device)\n",
        "\n",
        "        cn = c0[0,:,:]\n",
        "        hn = h0[0,:,:]\n",
        "        outs = []\n",
        "\n",
        "        for seq in range(x.size(1)):\n",
        "            # your code\n",
        "            hn, cn = self.lstm(x[:,seq,:], (hn,cn))\n",
        "            outs.append(hn)\n",
        "\n",
        "\n",
        "        #your code\n",
        "        out = outs[-1].squeeze()\n",
        "        out = self.fc(out)\n",
        "\n",
        "        return out"
      ]
    },
    {
      "cell_type": "code",
      "execution_count": null,
      "metadata": {
        "colab": {
          "base_uri": "https://localhost:8080/",
          "height": 35
        },
        "id": "teRMHm8gIDqn",
        "outputId": "32061b5f-543c-471e-94c9-7fe387d8a6a9"
      },
      "outputs": [
        {
          "data": {
            "application/vnd.google.colaboratory.intrinsic+json": {
              "type": "string"
            },
            "text/plain": [
              "'cuda'"
            ]
          },
          "execution_count": 49,
          "metadata": {},
          "output_type": "execute_result"
        }
      ],
      "source": [
        "device = 'cuda' if torch.cuda.is_available() else 'cpu'\n",
        "device"
      ]
    },
    {
      "cell_type": "code",
      "execution_count": null,
      "metadata": {
        "id": "QMOEeZZiuWxS"
      },
      "outputs": [],
      "source": [
        "input_dim = 28\n",
        "hidden_dim = 128\n",
        "layer_dim = 1  # ONLY 1 OR 2\n",
        "output_dim = 10\n",
        "# Number of steps to unroll\n",
        "seq_dim = 28\n",
        "\n",
        "model = LSTMModel(input_dim, hidden_dim, layer_dim, output_dim)\n",
        "model.to(device)\n",
        "\n",
        "# your code\n",
        "learning_rate = 1e-2\n",
        "criterion =  nn.CrossEntropyLoss()\n",
        "optimizer = torch.optim.Adam(model.parameters(), lr=learning_rate)"
      ]
    },
    {
      "cell_type": "code",
      "execution_count": null,
      "metadata": {
        "id": "JIENTkLStZT1"
      },
      "outputs": [],
      "source": [
        "# your code\n",
        "\n",
        "# Train model and print Loss and Accuracy on Test Dataset after each 500 iterations"
      ]
    },
    {
      "cell_type": "code",
      "execution_count": null,
      "metadata": {
        "colab": {
          "base_uri": "https://localhost:8080/"
        },
        "id": "LhCvv8U7IDqo",
        "outputId": "73b2d038-ecc0-4bdc-9fd5-cb400691c459"
      },
      "outputs": [
        {
          "name": "stdout",
          "output_type": "stream",
          "text": [
            "Iteration 500 - Test Loss: 0.1801 - Test Accuracy: 0.9436\n",
            "Iteration 1000 - Test Loss: 0.1165 - Test Accuracy: 0.9626\n",
            "Iteration 1500 - Test Loss: 0.0815 - Test Accuracy: 0.9751\n",
            "Iteration 2000 - Test Loss: 0.0719 - Test Accuracy: 0.9796\n",
            "Iteration 2500 - Test Loss: 0.0648 - Test Accuracy: 0.9809\n",
            "Iteration 3000 - Test Loss: 0.0636 - Test Accuracy: 0.9824\n",
            "Iteration 3500 - Test Loss: 0.0646 - Test Accuracy: 0.9815\n",
            "Iteration 4000 - Test Loss: 0.0641 - Test Accuracy: 0.9817\n",
            "Iteration 4500 - Test Loss: 0.0589 - Test Accuracy: 0.9841\n",
            "Iteration 5000 - Test Loss: 0.0623 - Test Accuracy: 0.9819\n",
            "Iteration 5500 - Test Loss: 0.0518 - Test Accuracy: 0.9848\n"
          ]
        }
      ],
      "source": [
        "best_val_loss = float('inf')\n",
        "best_val_acc = 0\n",
        "\n",
        "losses = []\n",
        "iter = 1\n",
        "\n",
        "for epoch in range(num_epochs):\n",
        "    running_loss = 0.0\n",
        "\n",
        "    for i, (inputs, labels) in enumerate(train_loader):\n",
        "      inputs = inputs.view(-1, seq_dim, input_dim).to(device)\n",
        "      labels = labels.to(device)\n",
        "\n",
        "      # zero the parameter gradients\n",
        "      optimizer.zero_grad()\n",
        "\n",
        "      # forward\n",
        "      outputs = model(inputs)\n",
        "      _, preds = torch.max(outputs, 1)\n",
        "      loss = criterion(outputs, labels)\n",
        "\n",
        "\n",
        "      loss.backward()\n",
        "      optimizer.step()\n",
        "\n",
        "      # statistics\n",
        "      running_loss += loss.item()\n",
        "\n",
        "      iter += 1\n",
        "\n",
        "      if iter%500 == 0:\n",
        "        running_test_loss = 0.0\n",
        "        running_test_acc = 0.0\n",
        "\n",
        "        for j, (inputs, labels) in enumerate(test_loader):\n",
        "          inputs = inputs.view(-1, seq_dim, input_dim).to(device)\n",
        "          labels = labels.to(device)\n",
        "\n",
        "          # zero the parameter gradients\n",
        "          optimizer.zero_grad()\n",
        "\n",
        "          # forward\n",
        "          with torch.set_grad_enabled(False):\n",
        "            t_outputs = model(inputs)\n",
        "            _, t_preds = torch.max(t_outputs, 1)\n",
        "            t_loss = criterion(t_outputs, labels)\n",
        "\n",
        "            # statistics\n",
        "            running_test_loss += t_loss.item()\n",
        "            running_test_acc += metrics.accuracy_score(labels.cpu(), t_preds.cpu())\n",
        "\n",
        "        test_loss = running_test_loss / len(test_loader)\n",
        "        test_acc = running_test_acc / len(test_loader)\n",
        "\n",
        "        print(f'Iteration {iter} - '\n",
        "          f'Test Loss: {test_loss:.4f} - '\n",
        "          f'Test Accuracy: {test_acc:.4f}')\n",
        "\n",
        "\n",
        "    train_loss = running_loss / len(train_loader)\n",
        "    losses.append(train_loss)"
      ]
    },
    {
      "cell_type": "code",
      "execution_count": null,
      "metadata": {
        "colab": {
          "base_uri": "https://localhost:8080/",
          "height": 447
        },
        "id": "uGokmezPRgS8",
        "outputId": "ac095bba-a750-4296-d7d5-4254fb5d2240"
      },
      "outputs": [
        {
          "data": {
            "text/plain": [
              "[<matplotlib.lines.Line2D at 0x7915cc35d060>]"
            ]
          },
          "execution_count": 58,
          "metadata": {},
          "output_type": "execute_result"
        },
        {
          "data": {
            "image/png": "[encoded data removed]",
            "text/plain": [
              "<Figure size 640x480 with 1 Axes>"
            ]
          },
          "metadata": {},
          "output_type": "display_data"
        }
      ],
      "source": [
        "plt.figure()\n",
        "plt.plot(losses)"
      ]
    },
    {
      "cell_type": "markdown",
      "metadata": {
        "id": "yO8aLb1_NN65"
      },
      "source": [
        "# Sentiment Analysis"
      ]
    },
    {
      "cell_type": "markdown",
      "metadata": {
        "id": "2G_TeIlFNTeR"
      },
      "source": [
        "Now you are ready to face a real-world problem. In this task, we want you to do a sentiment analysis on the [IMDB dataset](https://www.kaggle.com/datasets/lakshmi25npathi/imdb-dataset-of-50k-movie-reviews). The main goal is to reach more than an acceptable accuracy of **75%** on LSTM model. You are free to use torch.nn.LSTM to design your architecture, but you must prepare the IMDB dataset on your own."
      ]
    },
    {
      "cell_type": "code",
      "execution_count": 5,
      "metadata": {
        "id": "rBudvVrPZiFS"
      },
      "outputs": [],
      "source": [
        "import pandas as pd\n",
        "from sklearn.preprocessing import LabelEncoder\n",
        "from sklearn.model_selection import train_test_split, KFold\n",
        "from sklearn import metrics\n",
        "import torch\n",
        "from torch.utils.data import TensorDataset, DataLoader\n",
        "from torchtext import data\n",
        "import seaborn as sns\n",
        "from nltk.tokenize import word_tokenize\n",
        "from nltk.stem import PorterStemmer\n",
        "from nltk.stem import WordNetLemmatizer\n",
        "import nltk\n",
        "from nltk.corpus import stopwords"
      ]
    },
    {
      "cell_type": "code",
      "execution_count": 6,
      "metadata": {
        "colab": {
          "base_uri": "https://localhost:8080/"
        },
        "id": "xIef1vzKk5mF",
        "outputId": "2aa1ea14-34fb-4987-a6a3-b8b671054c46"
      },
      "outputs": [
        {
          "name": "stderr",
          "output_type": "stream",
          "text": [
            "[nltk_data] Downloading package punkt to /root/nltk_data...\n",
            "[nltk_data]   Unzipping tokenizers/punkt.zip.\n",
            "[nltk_data] Downloading package wordnet to /root/nltk_data...\n",
            "[nltk_data] Downloading package omw-1.4 to /root/nltk_data...\n",
            "[nltk_data] Downloading package stopwords to /root/nltk_data...\n",
            "[nltk_data]   Unzipping corpora/stopwords.zip.\n"
          ]
        },
        {
          "data": {
            "text/plain": [
              "True"
            ]
          },
          "execution_count": 6,
          "metadata": {},
          "output_type": "execute_result"
        }
      ],
      "source": [
        "nltk.download('punkt')\n",
        "nltk.download(\"wordnet\")\n",
        "nltk.download(\"omw-1.4\")\n",
        "nltk.download('stopwords')"
      ]
    },
    {
      "cell_type": "code",
      "execution_count": 28,
      "metadata": {
        "colab": {
          "base_uri": "https://localhost:8080/",
          "height": 223
        },
        "id": "75F6vP47P3kt",
        "outputId": "4e91a1f4-963c-4d55-c943-6e4c923d7477"
      },
      "outputs": [
        {
          "name": "stdout",
          "output_type": "stream",
          "text": [
            "(50000, 2)\n"
          ]
        },
        {
          "data": {
            "application/vnd.google.colaboratory.intrinsic+json": {
              "summary": "{\n  \"name\": \"imdb_data\",\n  \"rows\": 50000,\n  \"fields\": [\n    {\n      \"column\": \"review\",\n      \"properties\": {\n        \"dtype\": \"string\",\n        \"num_unique_values\": 49582,\n        \"samples\": [\n          \"\\\"Soul Plane\\\" is a horrible attempt at comedy that only should appeal people with thick skulls, bloodshot eyes and furry pawns. <br /><br />The plot is not only incoherent but also non-existent, acting is mostly sub sub-par with a gang of highly moronic and dreadful characters thrown in for bad measure, jokes are often spotted miles ahead and almost never even a bit amusing. This movie lacks any structure and is full of racial stereotypes that must have seemed old even in the fifties, the only thing it really has going for it is some pretty ladies, but really, if you want that you can rent something from the \\\"Adult\\\" section. OK?<br /><br />I can hardly see anything here to recommend since you'll probably have a lot a better and productive time chasing rats with a sledgehammer or inventing waterproof teabags or whatever.<br /><br />2/10\",\n          \"Guest from the Future tells a fascinating story of time travel, friendship, battle of good and evil -- all with a small budget, child actors, and few special effects. Something for Spielberg and Lucas to learn from. ;) A sixth-grader Kolya \\\"Nick\\\" Gerasimov finds a time machine in the basement of a decrepit building and travels 100 years into the future. He discovers a near-perfect, utopian society where robots play guitars and write poetry, everyone is kind to each other and people enjoy everything technology has to offer. Alice is the daughter of a prominent scientist who invented a device called Mielophone that allows to read minds of humans and animals. The device can be put to both good and bad use, depending on whose hands it falls into. When two evil space pirates from Saturn who want to rule the universe attempt to steal Mielophone, it falls into the hands of 20th century school boy Nick. With the pirates hot on his tracks, he travels back to his time, followed by the pirates, and Alice. Chaos, confusion and funny situations follow as the luckless pirates try to blend in with the earthlings. Alice enrolls in the same school Nick goes to and demonstrates superhuman abilities in PE class. The catch is, Alice doesn't know what Nick looks like, while the pirates do. Also, the pirates are able to change their appearance and turn literally into anyone. (Hmm, I wonder if this is where James Cameron got the idea for Terminator...) Who gets to Nick -- and Mielophone -- first? Excellent plot, non-stop adventures, and great soundtrack. I wish Hollywood made kid movies like this one...\",\n          \"\\\"National Treasure\\\" (2004) is a thoroughly misguided hodge-podge of plot entanglements that borrow from nearly every cloak and dagger government conspiracy clich\\u00e9 that has ever been written. The film stars Nicholas Cage as Benjamin Franklin Gates (how precious is that, I ask you?); a seemingly normal fellow who, for no other reason than being of a lineage of like-minded misguided fortune hunters, decides to steal a 'national treasure' that has been hidden by the United States founding fathers. After a bit of subtext and background that plays laughably (unintentionally) like Indiana Jones meets The Patriot, the film degenerates into one misguided whimsy after another \\u0096 attempting to create a 'Stanley Goodspeed' regurgitation of Nicholas Cage and launch the whole convoluted mess forward with a series of high octane, but disconnected misadventures.<br /><br />The relevancy and logic to having George Washington and his motley crew of patriots burying a king's ransom someplace on native soil, and then, going through the meticulous plan of leaving clues scattered throughout U.S. currency art work, is something that director Jon Turteltaub never quite gets around to explaining. Couldn't Washington found better usage for such wealth during the start up of the country? Hence, we are left with a mystery built on top of an enigma that is already on shaky ground by the time Ben appoints himself the new custodian of this untold wealth. Ben's intentions are noble \\u0096 if confusing. He's set on protecting the treasure. For who and when?\\u0085your guess is as good as mine.<br /><br />But there are a few problems with Ben's crusade. First up, his friend, Ian Holmes (Sean Bean) decides that he can't wait for Ben to make up his mind about stealing the Declaration of Independence from the National Archives (oh, yeah \\u0096 brilliant idea!). Presumably, the back of that famous document holds the secret answer to the ultimate fortune. So Ian tries to kill Ben. The assassination attempt is, of course, unsuccessful, if overly melodramatic. It also affords Ben the opportunity to pick up, and pick on, the very sultry curator of the archives, Abigail Chase (Diane Kruger). She thinks Ben is clearly a nut \\u0096 at least at the beginning. But true to action/romance form, Abby's resolve melts quicker than you can say, \\\"is that the Hope Diamond?\\\" The film moves into full X-File-ish mode, as the FBI, mistakenly believing that Ben is behind the theft, retaliate in various benign ways that lead to a multi-layering of action sequences reminiscent of Mission Impossible meets The Fugitive. Honestly, don't those guys ever get 'intelligence' information that is correct? In the final analysis, \\\"National Treasure\\\" isn't great film making, so much as it's a patchwork rehash of tired old bits from other movies, woven together from scraps, the likes of which would make IL' Betsy Ross blush.<br /><br />The Buena Vista DVD delivers a far more generous treatment than this film is deserving of. The anamorphic widescreen picture exhibits a very smooth and finely detailed image with very rich colors, natural flesh tones, solid blacks and clean whites. The stylized image is also free of blemishes and digital enhancements. The audio is 5.1 and delivers a nice sonic boom to your side and rear speakers with intensity and realism. Extras include a host of promotional junket material that is rather deep and over the top in its explanation of how and why this film was made. If only, as an audience, we had had more clarification as to why Ben and co. were chasing after an illusive treasure, this might have been one good flick. Extras conclude with the theatrical trailer, audio commentary and deleted scenes. Not for the faint-hearted \\u0096 just the thick-headed.\"\n        ],\n        \"semantic_type\": \"\",\n        \"description\": \"\"\n      }\n    },\n    {\n      \"column\": \"sentiment\",\n      \"properties\": {\n        \"dtype\": \"category\",\n        \"num_unique_values\": 2,\n        \"samples\": [\n          \"negative\",\n          \"positive\"\n        ],\n        \"semantic_type\": \"\",\n        \"description\": \"\"\n      }\n    }\n  ]\n}",
              "type": "dataframe",
              "variable_name": "imdb_data"
            },
            "text/html": [
              "\n",
              "  <div id=\"df-1e296063-9d92-4c23-ae80-13462d73ef5d\" class=\"colab-df-container\">\n",
              "    <div>\n",
              "<style scoped>\n",
              "    .dataframe tbody tr th:only-of-type {\n",
              "        vertical-align: middle;\n",
              "    }\n",
              "\n",
              "    .dataframe tbody tr th {\n",
              "        vertical-align: top;\n",
              "    }\n",
              "\n",
              "    .dataframe thead th {\n",
              "        text-align: right;\n",
              "    }\n",
              "</style>\n",
              "<table border=\"1\" class=\"dataframe\">\n",
              "  <thead>\n",
              "    <tr style=\"text-align: right;\">\n",
              "      <th></th>\n",
              "      <th>review</th>\n",
              "      <th>sentiment</th>\n",
              "    </tr>\n",
              "  </thead>\n",
              "  <tbody>\n",
              "    <tr>\n",
              "      <th>0</th>\n",
              "      <td>One of the other reviewers has mentioned that ...</td>\n",
              "      <td>positive</td>\n",
              "    </tr>\n",
              "    <tr>\n",
              "      <th>1</th>\n",
              "      <td>A wonderful little production. &lt;br /&gt;&lt;br /&gt;The...</td>\n",
              "      <td>positive</td>\n",
              "    </tr>\n",
              "    <tr>\n",
              "      <th>2</th>\n",
              "      <td>I thought this was a wonderful way to spend ti...</td>\n",
              "      <td>positive</td>\n",
              "    </tr>\n",
              "    <tr>\n",
              "      <th>3</th>\n",
              "      <td>Basically there's a family where a little boy ...</td>\n",
              "      <td>negative</td>\n",
              "    </tr>\n",
              "    <tr>\n",
              "      <th>4</th>\n",
              "      <td>Petter Mattei's \"Love in the Time of Money\" is...</td>\n",
              "      <td>positive</td>\n",
              "    </tr>\n",
              "  </tbody>\n",
              "</table>\n",
              "</div>\n",
              "    <div class=\"colab-df-buttons\">\n",
              "\n",
              "  <div class=\"colab-df-container\">\n",
              "    <button class=\"colab-df-convert\" onclick=\"convertToInteractive('df-1e296063-9d92-4c23-ae80-13462d73ef5d')\"\n",
              "            title=\"Convert this dataframe to an interactive table.\"\n",
              "            style=\"display:none;\">\n",
              "\n",
              "  <svg xmlns=\"http://www.w3.org/2000/svg\" height=\"24px\" viewBox=\"0 -960 960 960\">\n",
              "    <path d=\"M120-120v-720h720v720H120Zm60-500h600v-160H180v160Zm220 220h160v-160H400v160Zm0 220h160v-160H400v160ZM180-400h160v-160H180v160Zm440 0h160v-160H620v160ZM180-180h160v-160H180v160Zm440 0h160v-160H620v160Z\"/>\n",
              "  </svg>\n",
              "    </button>\n",
              "\n",
              "  <style>\n",
              "    .colab-df-container {\n",
              "      display:flex;\n",
              "      gap: 12px;\n",
              "    }\n",
              "\n",
              "    .colab-df-convert {\n",
              "      background-color: #E8F0FE;\n",
              "      border: none;\n",
              "      border-radius: 50%;\n",
              "      cursor: pointer;\n",
              "      display: none;\n",
              "      fill: #1967D2;\n",
              "      height: 32px;\n",
              "      padding: 0 0 0 0;\n",
              "      width: 32px;\n",
              "    }\n",
              "\n",
              "    .colab-df-convert:hover {\n",
              "      background-color: #E2EBFA;\n",
              "      box-shadow: 0px 1px 2px rgba(60, 64, 67, 0.3), 0px 1px 3px 1px rgba(60, 64, 67, 0.15);\n",
              "      fill: #174EA6;\n",
              "    }\n",
              "\n",
              "    .colab-df-buttons div {\n",
              "      margin-bottom: 4px;\n",
              "    }\n",
              "\n",
              "    [theme=dark] .colab-df-convert {\n",
              "      background-color: #3B4455;\n",
              "      fill: #D2E3FC;\n",
              "    }\n",
              "\n",
              "    [theme=dark] .colab-df-convert:hover {\n",
              "      background-color: #434B5C;\n",
              "      box-shadow: 0px 1px 3px 1px rgba(0, 0, 0, 0.15);\n",
              "      filter: drop-shadow(0px 1px 2px rgba(0, 0, 0, 0.3));\n",
              "      fill: #FFFFFF;\n",
              "    }\n",
              "  </style>\n",
              "\n",
              "    <script>\n",
              "      const buttonEl =\n",
              "        document.querySelector('#df-1e296063-9d92-4c23-ae80-13462d73ef5d button.colab-df-convert');\n",
              "      buttonEl.style.display =\n",
              "        google.colab.kernel.accessAllowed ? 'block' : 'none';\n",
              "\n",
              "      async function convertToInteractive(key) {\n",
              "        const element = document.querySelector('#df-1e296063-9d92-4c23-ae80-13462d73ef5d');\n",
              "        const dataTable =\n",
              "          await google.colab.kernel.invokeFunction('convertToInteractive',\n",
              "                                                    [key], {});\n",
              "        if (!dataTable) return;\n",
              "\n",
              "        const docLinkHtml = 'Like what you see? Visit the ' +\n",
              "          '<a target=\"_blank\" href=https://colab.research.google.com/notebooks/data_table.ipynb>data table notebook</a>'\n",
              "          + ' to learn more about interactive tables.';\n",
              "        element.innerHTML = '';\n",
              "        dataTable['output_type'] = 'display_data';\n",
              "        await google.colab.output.renderOutput(dataTable, element);\n",
              "        const docLink = document.createElement('div');\n",
              "        docLink.innerHTML = docLinkHtml;\n",
              "        element.appendChild(docLink);\n",
              "      }\n",
              "    </script>\n",
              "  </div>\n",
              "\n",
              "\n",
              "<div id=\"df-81ba2d50-9007-4ec6-beac-cb6d2304d615\">\n",
              "  <button class=\"colab-df-quickchart\" onclick=\"quickchart('df-81ba2d50-9007-4ec6-beac-cb6d2304d615')\"\n",
              "            title=\"Suggest charts\"\n",
              "            style=\"display:none;\">\n",
              "\n",
              "<svg xmlns=\"http://www.w3.org/2000/svg\" height=\"24px\"viewBox=\"0 0 24 24\"\n",
              "     width=\"24px\">\n",
              "    <g>\n",
              "        <path d=\"M19 3H5c-1.1 0-2 .9-2 2v14c0 1.1.9 2 2 2h14c1.1 0 2-.9 2-2V5c0-1.1-.9-2-2-2zM9 17H7v-7h2v7zm4 0h-2V7h2v10zm4 0h-2v-4h2v4z\"/>\n",
              "    </g>\n",
              "</svg>\n",
              "  </button>\n",
              "\n",
              "<style>\n",
              "  .colab-df-quickchart {\n",
              "      --bg-color: #E8F0FE;\n",
              "      --fill-color: #1967D2;\n",
              "      --hover-bg-color: #E2EBFA;\n",
              "      --hover-fill-color: #174EA6;\n",
              "      --disabled-fill-color: #AAA;\n",
              "      --disabled-bg-color: #DDD;\n",
              "  }\n",
              "\n",
              "  [theme=dark] .colab-df-quickchart {\n",
              "      --bg-color: #3B4455;\n",
              "      --fill-color: #D2E3FC;\n",
              "      --hover-bg-color: #434B5C;\n",
              "      --hover-fill-color: #FFFFFF;\n",
              "      --disabled-bg-color: #3B4455;\n",
              "      --disabled-fill-color: #666;\n",
              "  }\n",
              "\n",
              "  .colab-df-quickchart {\n",
              "    background-color: var(--bg-color);\n",
              "    border: none;\n",
              "    border-radius: 50%;\n",
              "    cursor: pointer;\n",
              "    display: none;\n",
              "    fill: var(--fill-color);\n",
              "    height: 32px;\n",
              "    padding: 0;\n",
              "    width: 32px;\n",
              "  }\n",
              "\n",
              "  .colab-df-quickchart:hover {\n",
              "    background-color: var(--hover-bg-color);\n",
              "    box-shadow: 0 1px 2px rgba(60, 64, 67, 0.3), 0 1px 3px 1px rgba(60, 64, 67, 0.15);\n",
              "    fill: var(--button-hover-fill-color);\n",
              "  }\n",
              "\n",
              "  .colab-df-quickchart-complete:disabled,\n",
              "  .colab-df-quickchart-complete:disabled:hover {\n",
              "    background-color: var(--disabled-bg-color);\n",
              "    fill: var(--disabled-fill-color);\n",
              "    box-shadow: none;\n",
              "  }\n",
              "\n",
              "  .colab-df-spinner {\n",
              "    border: 2px solid var(--fill-color);\n",
              "    border-color: transparent;\n",
              "    border-bottom-color: var(--fill-color);\n",
              "    animation:\n",
              "      spin 1s steps(1) infinite;\n",
              "  }\n",
              "\n",
              "  @keyframes spin {\n",
              "    0% {\n",
              "      border-color: transparent;\n",
              "      border-bottom-color: var(--fill-color);\n",
              "      border-left-color: var(--fill-color);\n",
              "    }\n",
              "    20% {\n",
              "      border-color: transparent;\n",
              "      border-left-color: var(--fill-color);\n",
              "      border-top-color: var(--fill-color);\n",
              "    }\n",
              "    30% {\n",
              "      border-color: transparent;\n",
              "      border-left-color: var(--fill-color);\n",
              "      border-top-color: var(--fill-color);\n",
              "      border-right-color: var(--fill-color);\n",
              "    }\n",
              "    40% {\n",
              "      border-color: transparent;\n",
              "      border-right-color: var(--fill-color);\n",
              "      border-top-color: var(--fill-color);\n",
              "    }\n",
              "    60% {\n",
              "      border-color: transparent;\n",
              "      border-right-color: var(--fill-color);\n",
              "    }\n",
              "    80% {\n",
              "      border-color: transparent;\n",
              "      border-right-color: var(--fill-color);\n",
              "      border-bottom-color: var(--fill-color);\n",
              "    }\n",
              "    90% {\n",
              "      border-color: transparent;\n",
              "      border-bottom-color: var(--fill-color);\n",
              "    }\n",
              "  }\n",
              "</style>\n",
              "\n",
              "  <script>\n",
              "    async function quickchart(key) {\n",
              "      const quickchartButtonEl =\n",
              "        document.querySelector('#' + key + ' button');\n",
              "      quickchartButtonEl.disabled = true;  // To prevent multiple clicks.\n",
              "      quickchartButtonEl.classList.add('colab-df-spinner');\n",
              "      try {\n",
              "        const charts = await google.colab.kernel.invokeFunction(\n",
              "            'suggestCharts', [key], {});\n",
              "      } catch (error) {\n",
              "        console.error('Error during call to suggestCharts:', error);\n",
              "      }\n",
              "      quickchartButtonEl.classList.remove('colab-df-spinner');\n",
              "      quickchartButtonEl.classList.add('colab-df-quickchart-complete');\n",
              "    }\n",
              "    (() => {\n",
              "      let quickchartButtonEl =\n",
              "        document.querySelector('#df-81ba2d50-9007-4ec6-beac-cb6d2304d615 button');\n",
              "      quickchartButtonEl.style.display =\n",
              "        google.colab.kernel.accessAllowed ? 'block' : 'none';\n",
              "    })();\n",
              "  </script>\n",
              "</div>\n",
              "    </div>\n",
              "  </div>\n"
            ],
            "text/plain": [
              "                                              review sentiment\n",
              "0  One of the other reviewers has mentioned that ...  positive\n",
              "1  A wonderful little production. <br /><br />The...  positive\n",
              "2  I thought this was a wonderful way to spend ti...  positive\n",
              "3  Basically there's a family where a little boy ...  negative\n",
              "4  Petter Mattei's \"Love in the Time of Money\" is...  positive"
            ]
          },
          "execution_count": 28,
          "metadata": {},
          "output_type": "execute_result"
        }
      ],
      "source": [
        "#importing the training data\n",
        "imdb_data=pd.read_csv('/content/drive/MyDrive/AI/Deep Learning/DL/HW3/IMDB Dataset.csv')\n",
        "print(imdb_data.shape)\n",
        "imdb_data.head()"
      ]
    },
    {
      "cell_type": "code",
      "execution_count": 29,
      "metadata": {
        "colab": {
          "base_uri": "https://localhost:8080/",
          "height": 174
        },
        "id": "M10ThnUOZ2Ok",
        "outputId": "b60878f0-75c0-416d-b85d-47114b42a280"
      },
      "outputs": [
        {
          "data": {
            "application/vnd.google.colaboratory.intrinsic+json": {
              "summary": "{\n  \"name\": \"imdb_data\",\n  \"rows\": 4,\n  \"fields\": [\n    {\n      \"column\": \"review\",\n      \"properties\": {\n        \"dtype\": \"string\",\n        \"num_unique_values\": 4,\n        \"samples\": [\n          49582,\n          \"5\",\n          \"50000\"\n        ],\n        \"semantic_type\": \"\",\n        \"description\": \"\"\n      }\n    },\n    {\n      \"column\": \"sentiment\",\n      \"properties\": {\n        \"dtype\": \"string\",\n        \"num_unique_values\": 4,\n        \"samples\": [\n          2,\n          \"25000\",\n          \"50000\"\n        ],\n        \"semantic_type\": \"\",\n        \"description\": \"\"\n      }\n    }\n  ]\n}",
              "type": "dataframe"
            },
            "text/html": [
              "\n",
              "  <div id=\"df-c77cf59e-05ec-4822-85f9-433b7dbec07d\" class=\"colab-df-container\">\n",
              "    <div>\n",
              "<style scoped>\n",
              "    .dataframe tbody tr th:only-of-type {\n",
              "        vertical-align: middle;\n",
              "    }\n",
              "\n",
              "    .dataframe tbody tr th {\n",
              "        vertical-align: top;\n",
              "    }\n",
              "\n",
              "    .dataframe thead th {\n",
              "        text-align: right;\n",
              "    }\n",
              "</style>\n",
              "<table border=\"1\" class=\"dataframe\">\n",
              "  <thead>\n",
              "    <tr style=\"text-align: right;\">\n",
              "      <th></th>\n",
              "      <th>review</th>\n",
              "      <th>sentiment</th>\n",
              "    </tr>\n",
              "  </thead>\n",
              "  <tbody>\n",
              "    <tr>\n",
              "      <th>count</th>\n",
              "      <td>50000</td>\n",
              "      <td>50000</td>\n",
              "    </tr>\n",
              "    <tr>\n",
              "      <th>unique</th>\n",
              "      <td>49582</td>\n",
              "      <td>2</td>\n",
              "    </tr>\n",
              "    <tr>\n",
              "      <th>top</th>\n",
              "      <td>Loved today's show!!! It was a variety and not...</td>\n",
              "      <td>positive</td>\n",
              "    </tr>\n",
              "    <tr>\n",
              "      <th>freq</th>\n",
              "      <td>5</td>\n",
              "      <td>25000</td>\n",
              "    </tr>\n",
              "  </tbody>\n",
              "</table>\n",
              "</div>\n",
              "    <div class=\"colab-df-buttons\">\n",
              "\n",
              "  <div class=\"colab-df-container\">\n",
              "    <button class=\"colab-df-convert\" onclick=\"convertToInteractive('df-c77cf59e-05ec-4822-85f9-433b7dbec07d')\"\n",
              "            title=\"Convert this dataframe to an interactive table.\"\n",
              "            style=\"display:none;\">\n",
              "\n",
              "  <svg xmlns=\"http://www.w3.org/2000/svg\" height=\"24px\" viewBox=\"0 -960 960 960\">\n",
              "    <path d=\"M120-120v-720h720v720H120Zm60-500h600v-160H180v160Zm220 220h160v-160H400v160Zm0 220h160v-160H400v160ZM180-400h160v-160H180v160Zm440 0h160v-160H620v160ZM180-180h160v-160H180v160Zm440 0h160v-160H620v160Z\"/>\n",
              "  </svg>\n",
              "    </button>\n",
              "\n",
              "  <style>\n",
              "    .colab-df-container {\n",
              "      display:flex;\n",
              "      gap: 12px;\n",
              "    }\n",
              "\n",
              "    .colab-df-convert {\n",
              "      background-color: #E8F0FE;\n",
              "      border: none;\n",
              "      border-radius: 50%;\n",
              "      cursor: pointer;\n",
              "      display: none;\n",
              "      fill: #1967D2;\n",
              "      height: 32px;\n",
              "      padding: 0 0 0 0;\n",
              "      width: 32px;\n",
              "    }\n",
              "\n",
              "    .colab-df-convert:hover {\n",
              "      background-color: #E2EBFA;\n",
              "      box-shadow: 0px 1px 2px rgba(60, 64, 67, 0.3), 0px 1px 3px 1px rgba(60, 64, 67, 0.15);\n",
              "      fill: #174EA6;\n",
              "    }\n",
              "\n",
              "    .colab-df-buttons div {\n",
              "      margin-bottom: 4px;\n",
              "    }\n",
              "\n",
              "    [theme=dark] .colab-df-convert {\n",
              "      background-color: #3B4455;\n",
              "      fill: #D2E3FC;\n",
              "    }\n",
              "\n",
              "    [theme=dark] .colab-df-convert:hover {\n",
              "      background-color: #434B5C;\n",
              "      box-shadow: 0px 1px 3px 1px rgba(0, 0, 0, 0.15);\n",
              "      filter: drop-shadow(0px 1px 2px rgba(0, 0, 0, 0.3));\n",
              "      fill: #FFFFFF;\n",
              "    }\n",
              "  </style>\n",
              "\n",
              "    <script>\n",
              "      const buttonEl =\n",
              "        document.querySelector('#df-c77cf59e-05ec-4822-85f9-433b7dbec07d button.colab-df-convert');\n",
              "      buttonEl.style.display =\n",
              "        google.colab.kernel.accessAllowed ? 'block' : 'none';\n",
              "\n",
              "      async function convertToInteractive(key) {\n",
              "        const element = document.querySelector('#df-c77cf59e-05ec-4822-85f9-433b7dbec07d');\n",
              "        const dataTable =\n",
              "          await google.colab.kernel.invokeFunction('convertToInteractive',\n",
              "                                                    [key], {});\n",
              "        if (!dataTable) return;\n",
              "\n",
              "        const docLinkHtml = 'Like what you see? Visit the ' +\n",
              "          '<a target=\"_blank\" href=https://colab.research.google.com/notebooks/data_table.ipynb>data table notebook</a>'\n",
              "          + ' to learn more about interactive tables.';\n",
              "        element.innerHTML = '';\n",
              "        dataTable['output_type'] = 'display_data';\n",
              "        await google.colab.output.renderOutput(dataTable, element);\n",
              "        const docLink = document.createElement('div');\n",
              "        docLink.innerHTML = docLinkHtml;\n",
              "        element.appendChild(docLink);\n",
              "      }\n",
              "    </script>\n",
              "  </div>\n",
              "\n",
              "\n",
              "<div id=\"df-96a77392-004d-4131-a889-40edf8a0cc54\">\n",
              "  <button class=\"colab-df-quickchart\" onclick=\"quickchart('df-96a77392-004d-4131-a889-40edf8a0cc54')\"\n",
              "            title=\"Suggest charts\"\n",
              "            style=\"display:none;\">\n",
              "\n",
              "<svg xmlns=\"http://www.w3.org/2000/svg\" height=\"24px\"viewBox=\"0 0 24 24\"\n",
              "     width=\"24px\">\n",
              "    <g>\n",
              "        <path d=\"M19 3H5c-1.1 0-2 .9-2 2v14c0 1.1.9 2 2 2h14c1.1 0 2-.9 2-2V5c0-1.1-.9-2-2-2zM9 17H7v-7h2v7zm4 0h-2V7h2v10zm4 0h-2v-4h2v4z\"/>\n",
              "    </g>\n",
              "</svg>\n",
              "  </button>\n",
              "\n",
              "<style>\n",
              "  .colab-df-quickchart {\n",
              "      --bg-color: #E8F0FE;\n",
              "      --fill-color: #1967D2;\n",
              "      --hover-bg-color: #E2EBFA;\n",
              "      --hover-fill-color: #174EA6;\n",
              "      --disabled-fill-color: #AAA;\n",
              "      --disabled-bg-color: #DDD;\n",
              "  }\n",
              "\n",
              "  [theme=dark] .colab-df-quickchart {\n",
              "      --bg-color: #3B4455;\n",
              "      --fill-color: #D2E3FC;\n",
              "      --hover-bg-color: #434B5C;\n",
              "      --hover-fill-color: #FFFFFF;\n",
              "      --disabled-bg-color: #3B4455;\n",
              "      --disabled-fill-color: #666;\n",
              "  }\n",
              "\n",
              "  .colab-df-quickchart {\n",
              "    background-color: var(--bg-color);\n",
              "    border: none;\n",
              "    border-radius: 50%;\n",
              "    cursor: pointer;\n",
              "    display: none;\n",
              "    fill: var(--fill-color);\n",
              "    height: 32px;\n",
              "    padding: 0;\n",
              "    width: 32px;\n",
              "  }\n",
              "\n",
              "  .colab-df-quickchart:hover {\n",
              "    background-color: var(--hover-bg-color);\n",
              "    box-shadow: 0 1px 2px rgba(60, 64, 67, 0.3), 0 1px 3px 1px rgba(60, 64, 67, 0.15);\n",
              "    fill: var(--button-hover-fill-color);\n",
              "  }\n",
              "\n",
              "  .colab-df-quickchart-complete:disabled,\n",
              "  .colab-df-quickchart-complete:disabled:hover {\n",
              "    background-color: var(--disabled-bg-color);\n",
              "    fill: var(--disabled-fill-color);\n",
              "    box-shadow: none;\n",
              "  }\n",
              "\n",
              "  .colab-df-spinner {\n",
              "    border: 2px solid var(--fill-color);\n",
              "    border-color: transparent;\n",
              "    border-bottom-color: var(--fill-color);\n",
              "    animation:\n",
              "      spin 1s steps(1) infinite;\n",
              "  }\n",
              "\n",
              "  @keyframes spin {\n",
              "    0% {\n",
              "      border-color: transparent;\n",
              "      border-bottom-color: var(--fill-color);\n",
              "      border-left-color: var(--fill-color);\n",
              "    }\n",
              "    20% {\n",
              "      border-color: transparent;\n",
              "      border-left-color: var(--fill-color);\n",
              "      border-top-color: var(--fill-color);\n",
              "    }\n",
              "    30% {\n",
              "      border-color: transparent;\n",
              "      border-left-color: var(--fill-color);\n",
              "      border-top-color: var(--fill-color);\n",
              "      border-right-color: var(--fill-color);\n",
              "    }\n",
              "    40% {\n",
              "      border-color: transparent;\n",
              "      border-right-color: var(--fill-color);\n",
              "      border-top-color: var(--fill-color);\n",
              "    }\n",
              "    60% {\n",
              "      border-color: transparent;\n",
              "      border-right-color: var(--fill-color);\n",
              "    }\n",
              "    80% {\n",
              "      border-color: transparent;\n",
              "      border-right-color: var(--fill-color);\n",
              "      border-bottom-color: var(--fill-color);\n",
              "    }\n",
              "    90% {\n",
              "      border-color: transparent;\n",
              "      border-bottom-color: var(--fill-color);\n",
              "    }\n",
              "  }\n",
              "</style>\n",
              "\n",
              "  <script>\n",
              "    async function quickchart(key) {\n",
              "      const quickchartButtonEl =\n",
              "        document.querySelector('#' + key + ' button');\n",
              "      quickchartButtonEl.disabled = true;  // To prevent multiple clicks.\n",
              "      quickchartButtonEl.classList.add('colab-df-spinner');\n",
              "      try {\n",
              "        const charts = await google.colab.kernel.invokeFunction(\n",
              "            'suggestCharts', [key], {});\n",
              "      } catch (error) {\n",
              "        console.error('Error during call to suggestCharts:', error);\n",
              "      }\n",
              "      quickchartButtonEl.classList.remove('colab-df-spinner');\n",
              "      quickchartButtonEl.classList.add('colab-df-quickchart-complete');\n",
              "    }\n",
              "    (() => {\n",
              "      let quickchartButtonEl =\n",
              "        document.querySelector('#df-96a77392-004d-4131-a889-40edf8a0cc54 button');\n",
              "      quickchartButtonEl.style.display =\n",
              "        google.colab.kernel.accessAllowed ? 'block' : 'none';\n",
              "    })();\n",
              "  </script>\n",
              "</div>\n",
              "    </div>\n",
              "  </div>\n"
            ],
            "text/plain": [
              "                                                   review sentiment\n",
              "count                                               50000     50000\n",
              "unique                                              49582         2\n",
              "top     Loved today's show!!! It was a variety and not...  positive\n",
              "freq                                                    5     25000"
            ]
          },
          "execution_count": 29,
          "metadata": {},
          "output_type": "execute_result"
        }
      ],
      "source": [
        "#Summary of the dataset\n",
        "imdb_data.describe()"
      ]
    },
    {
      "cell_type": "code",
      "execution_count": 30,
      "metadata": {
        "colab": {
          "base_uri": "https://localhost:8080/"
        },
        "id": "dkDfRSIQaIW5",
        "outputId": "3faa4127-207c-4209-99f2-8a1577802550"
      },
      "outputs": [
        {
          "data": {
            "text/plain": [
              "sentiment\n",
              "positive    25000\n",
              "negative    25000\n",
              "Name: count, dtype: int64"
            ]
          },
          "execution_count": 30,
          "metadata": {},
          "output_type": "execute_result"
        }
      ],
      "source": [
        "#sentiment count\n",
        "imdb_data['sentiment'].value_counts()"
      ]
    },
    {
      "cell_type": "code",
      "execution_count": 35,
      "metadata": {
        "id": "fSFMAuM2Fm2J"
      },
      "outputs": [],
      "source": [
        "from collections import Counter\n",
        "import re\n",
        "\n",
        "def preprocess_string(s):\n",
        "    # Remove all non-word characters (everything except numbers and letters)\n",
        "    s = re.sub(r\"[^\\w\\s]\", '', s)\n",
        "    # Replace all runs of whitespaces with no space\n",
        "    s = re.sub(r\"\\s+\", '', s)\n",
        "    # replace digits with no space\n",
        "    s = re.sub(r\"\\d\", '', s)\n",
        "\n",
        "    return s\n",
        "\n",
        "def tockenize(x_train,y_train,x_val,y_val):\n",
        "    word_list = []\n",
        "\n",
        "    stop_words = set(stopwords.words('english'))\n",
        "    for sent in x_train:\n",
        "        for word in sent.lower().split():\n",
        "            word = preprocess_string(word)\n",
        "            if word not in stop_words and word != '':\n",
        "                word_list.append(word)\n",
        "\n",
        "    corpus = Counter(word_list)\n",
        "    # sorting on the basis of most common words\n",
        "    corpus_ = sorted(corpus,key=corpus.get,reverse=True)[:1000]\n",
        "    # creating a dict\n",
        "    onehot_dict = {w:i+1 for i,w in enumerate(corpus_)}\n",
        "\n",
        "    # tockenize\n",
        "    final_list_train,final_list_test = [],[]\n",
        "    for sent in x_train:\n",
        "            final_list_train.append([onehot_dict[preprocess_string(word)] for word in sent.lower().split()\n",
        "                                     if preprocess_string(word) in onehot_dict.keys()])\n",
        "    for sent in x_val:\n",
        "            final_list_test.append([onehot_dict[preprocess_string(word)] for word in sent.lower().split()\n",
        "                                    if preprocess_string(word) in onehot_dict.keys()])\n",
        "\n",
        "    encoded_train = [1 if label =='positive' else 0 for label in y_train]\n",
        "    encoded_test = [1 if label =='positive' else 0 for label in y_val]\n",
        "    return final_list_train, encoded_train, final_list_test, encoded_test, onehot_dict\n",
        "\n"
      ]
    },
    {
      "cell_type": "code",
      "execution_count": 36,
      "metadata": {
        "id": "CYD8ON8YF9DL"
      },
      "outputs": [],
      "source": [
        "X = np.array(imdb_data['review'])\n",
        "y = np.array(imdb_data['sentiment'])"
      ]
    },
    {
      "cell_type": "code",
      "execution_count": 37,
      "metadata": {
        "id": "b8m4Rh6xGG4y"
      },
      "outputs": [],
      "source": [
        "from sklearn.model_selection import train_test_split\n",
        "x_train, x_test, y_train, y_test = train_test_split(X,y,test_size = 0.2,random_state = 42)"
      ]
    },
    {
      "cell_type": "code",
      "execution_count": 38,
      "metadata": {
        "id": "IMfz_0gbGNG2"
      },
      "outputs": [],
      "source": [
        "x_train,y_train,x_test,y_test,vocab = tockenize(x_train,y_train,x_test,y_test)"
      ]
    },
    {
      "cell_type": "code",
      "execution_count": 39,
      "metadata": {
        "colab": {
          "base_uri": "https://localhost:8080/"
        },
        "id": "PpPZ_7TeGVJR",
        "outputId": "1654cc2c-9254-4d3d-f8af-6c9234b142a0"
      },
      "outputs": [
        {
          "name": "stdout",
          "output_type": "stream",
          "text": [
            "Length of vocabulary is 1000\n"
          ]
        }
      ],
      "source": [
        "print(f'Length of vocabulary is {len(vocab)}')"
      ]
    },
    {
      "cell_type": "code",
      "execution_count": 40,
      "metadata": {
        "id": "5225GMuRHhob"
      },
      "outputs": [],
      "source": [
        "def padding_(sentences, seq_len):\n",
        "    features = np.zeros((len(sentences), seq_len),dtype=int)\n",
        "    for ii, review in enumerate(sentences):\n",
        "        if len(review) != 0:\n",
        "            features[ii, -len(review):] = np.array(review)[:seq_len]\n",
        "    return features\n",
        "\n",
        "\n",
        "\n",
        "#we have very less number of reviews with length > 500.\n",
        "#So we will consideronly those below it.\n",
        "x_train_pad = torch.tensor(padding_(x_train,100))\n",
        "x_test_pad = torch.tensor(padding_(x_test,100))"
      ]
    },
    {
      "cell_type": "code",
      "execution_count": 41,
      "metadata": {
        "id": "kkmcs1-aJW1w"
      },
      "outputs": [],
      "source": [
        "y_train = torch.tensor(y_train)\n",
        "y_test = torch.tensor(y_test)"
      ]
    },
    {
      "cell_type": "code",
      "execution_count": 42,
      "metadata": {
        "colab": {
          "base_uri": "https://localhost:8080/"
        },
        "id": "oYyLBme_HpfV",
        "outputId": "80eca5f7-b51e-4a4b-95c9-315383d0a876"
      },
      "outputs": [
        {
          "data": {
            "text/plain": [
              "(torch.Size([32000, 100]), torch.Size([8000, 100]))"
            ]
          },
          "execution_count": 42,
          "metadata": {},
          "output_type": "execute_result"
        }
      ],
      "source": [
        "x_train_pad, x_val_pad, y_train, y_val = train_test_split(x_train_pad, y_train, test_size=0.2)\n",
        "x_train_pad.shape, x_val_pad.shape"
      ]
    },
    {
      "cell_type": "code",
      "execution_count": 43,
      "metadata": {
        "id": "DAgRKV8kIYlh"
      },
      "outputs": [],
      "source": [
        "# create Tensor datasets\n",
        "train_data = TensorDataset(x_train_pad, y_train)\n",
        "valid_data = TensorDataset(x_val_pad, y_val)\n",
        "test_data = TensorDataset(x_test_pad, y_test)\n",
        "\n",
        "# dataloaders\n",
        "batch_size = 50\n",
        "\n",
        "# make sure to SHUFFLE your data\n",
        "dataloaders = {}\n",
        "\n",
        "dataloaders['train'] = DataLoader(train_data, shuffle=True, batch_size=batch_size)\n",
        "dataloaders['val'] = DataLoader(valid_data, shuffle=True, batch_size=batch_size)\n",
        "dataloaders['test'] = DataLoader(train_data, shuffle=True, batch_size=batch_size)"
      ]
    },
    {
      "cell_type": "code",
      "execution_count": 44,
      "metadata": {
        "id": "jq9P12BKMmnu"
      },
      "outputs": [],
      "source": [
        "class SentimentRNN(nn.Module):\n",
        "    def __init__(self,no_layers,vocab_size,hidden_dim,embedding_dim,drop_prob=0.5):\n",
        "        super(SentimentRNN,self).__init__()\n",
        "\n",
        "        self.output_dim = output_dim\n",
        "        self.hidden_dim = hidden_dim\n",
        "\n",
        "        self.no_layers = no_layers\n",
        "        self.vocab_size = vocab_size\n",
        "\n",
        "        # embedding and LSTM layers\n",
        "        self.embedding = nn.Embedding(vocab_size, embedding_dim)\n",
        "\n",
        "        #lstm\n",
        "        self.lstm = nn.LSTM(input_size=embedding_dim,hidden_size=self.hidden_dim,\n",
        "                           num_layers=no_layers, batch_first=True)\n",
        "\n",
        "\n",
        "        # dropout layer\n",
        "        self.dropout = nn.Dropout(0.3)\n",
        "\n",
        "        # linear and sigmoid layer\n",
        "        self.fc = nn.Linear(self.hidden_dim, output_dim)\n",
        "        self.sig = nn.Sigmoid()\n",
        "\n",
        "    def forward(self,  x):\n",
        "        batch_size = x.size(0)\n",
        "        h0 = torch.zeros((self.no_layers,batch_size,self.hidden_dim)).to(device)\n",
        "        c0 = torch.zeros((self.no_layers,batch_size,self.hidden_dim)).to(device)\n",
        "        hidden = (h0,c0)\n",
        "\n",
        "        # embeddings and lstm_out\n",
        "        embeds = self.embedding(x)  # shape: B x S x Feature   since batch = True\n",
        "\n",
        "        #print(embeds.shape)  #[50, 500, 1000]\n",
        "        lstm_out, hidden = self.lstm(embeds, hidden)\n",
        "\n",
        "        lstm_out = lstm_out.contiguous().view(-1, self.hidden_dim)\n",
        "\n",
        "        # dropout and fully connected layer\n",
        "        out = self.dropout(lstm_out)\n",
        "        out = self.fc(out)\n",
        "\n",
        "        # sigmoid function\n",
        "        sig_out = self.sig(out)\n",
        "\n",
        "        # reshape to be batch_size first\n",
        "        sig_out = sig_out.view(batch_size, -1)\n",
        "\n",
        "        sig_out = sig_out[:, -1] # get last batch of labels\n",
        "\n",
        "        # return last sigmoid output and hidden state\n",
        "        return sig_out, hidden\n"
      ]
    },
    {
      "cell_type": "code",
      "execution_count": 45,
      "metadata": {
        "id": "YsLcpfSrS0tQ"
      },
      "outputs": [],
      "source": [
        "# function to predict accuracy\n",
        "def acc(pred,label):\n",
        "    pred = torch.round(pred.squeeze())\n",
        "    return torch.sum(pred == label.squeeze()).item()"
      ]
    },
    {
      "cell_type": "code",
      "execution_count": 67,
      "metadata": {
        "colab": {
          "base_uri": "https://localhost:8080/"
        },
        "id": "yby_Kv5yMpNd",
        "outputId": "20c7c070-19a2-4119-eeab-1a0945ca46b8"
      },
      "outputs": [
        {
          "name": "stdout",
          "output_type": "stream",
          "text": [
            "SentimentRNN(\n",
            "  (embedding): Embedding(1001, 64)\n",
            "  (lstm): LSTM(64, 256, num_layers=2, batch_first=True)\n",
            "  (dropout): Dropout(p=0.3, inplace=False)\n",
            "  (fc): Linear(in_features=256, out_features=1, bias=True)\n",
            "  (sig): Sigmoid()\n",
            ")\n"
          ]
        }
      ],
      "source": [
        "no_layers = 2\n",
        "vocab_size = len(vocab) + 1 #extra 1 for padding\n",
        "embedding_dim = 64\n",
        "output_dim = 1\n",
        "hidden_dim = 256\n",
        "\n",
        "\n",
        "model = SentimentRNN(no_layers,vocab_size,hidden_dim,embedding_dim,drop_prob=0.5)\n",
        "\n",
        "#moving to gpu\n",
        "model.to(device)\n",
        "\n",
        "print(model)"
      ]
    },
    {
      "cell_type": "code",
      "execution_count": 68,
      "metadata": {
        "id": "p0ZocqHRMuqn"
      },
      "outputs": [],
      "source": [
        "# loss and optimization functions\n",
        "lr=1e-3\n",
        "\n",
        "criterion = nn.BCELoss()\n",
        "\n",
        "optimizer = torch.optim.Adam(model.parameters(), lr=lr)"
      ]
    },
    {
      "cell_type": "code",
      "execution_count": 76,
      "metadata": {
        "colab": {
          "base_uri": "https://localhost:8080/"
        },
        "id": "0JmYRiRYVNM4",
        "outputId": "2f9a7d96-4638-42bd-fafe-d62ec5f81de1"
      },
      "outputs": [
        {
          "name": "stdout",
          "output_type": "stream",
          "text": [
            "Epoch 1\n",
            "train_loss : 0.5419 val_loss : 0.4995\n",
            "train_accuracy : 72.34 val_accuracy : 76.79\n",
            "==================================================\n",
            "Epoch 2\n",
            "train_loss : 0.3994 val_loss : 0.3906\n",
            "train_accuracy : 82.19 val_accuracy : 83.39\n",
            "==================================================\n",
            "Epoch 3\n",
            "train_loss : 0.3598 val_loss : 0.3719\n",
            "train_accuracy : 84.67 val_accuracy : 83.55\n",
            "==================================================\n",
            "Epoch 4\n",
            "train_loss : 0.335 val_loss : 0.3469\n",
            "train_accuracy : 85.79 val_accuracy : 84.52\n",
            "==================================================\n",
            "Epoch 5\n",
            "train_loss : 0.304 val_loss : 0.3548\n",
            "train_accuracy : 87.31 val_accuracy : 84.14\n",
            "==================================================\n"
          ]
        }
      ],
      "source": [
        "clip = 5\n",
        "epochs = 5\n",
        "valid_loss_min = np.Inf\n",
        "# train for some number of epochs\n",
        "epoch_tr_loss,epoch_vl_loss = [],[]\n",
        "epoch_tr_acc,epoch_vl_acc = [],[]\n",
        "\n",
        "for epoch in range(epochs):\n",
        "    train_losses = []\n",
        "    train_acc = 0.0\n",
        "    model.train()\n",
        "\n",
        "    for inputs, labels in dataloaders['train']:\n",
        "\n",
        "        inputs, labels = inputs.to(device), labels.to(device)\n",
        "        # Creating new variables for the hidden state, otherwise\n",
        "        # we'd backprop through the entire training history\n",
        "\n",
        "        model.zero_grad()\n",
        "        output,h = model(inputs)\n",
        "\n",
        "        # calculate the loss and perform backprop\n",
        "        loss = criterion(output.squeeze(), labels.float())\n",
        "        loss.backward()\n",
        "        train_losses.append(loss.item())\n",
        "        # calculating accuracy\n",
        "        accuracy = acc(output,labels)\n",
        "        train_acc += accuracy\n",
        "        #`clip_grad_norm` helps prevent the exploding gradient problem in RNNs / LSTMs.\n",
        "        nn.utils.clip_grad_norm_(model.parameters(), clip)\n",
        "        optimizer.step()\n",
        "\n",
        "\n",
        "    val_losses = []\n",
        "    val_acc = 0.0\n",
        "    model.eval()\n",
        "    for inputs, labels in dataloaders['val']:\n",
        "\n",
        "            inputs, labels = inputs.to(device), labels.to(device)\n",
        "\n",
        "            output, val_h = model(inputs)\n",
        "            val_loss = criterion(output.squeeze(), labels.float())\n",
        "\n",
        "            val_losses.append(val_loss.item())\n",
        "\n",
        "            accuracy = acc(output,labels)\n",
        "            val_acc += accuracy\n",
        "\n",
        "    epoch_train_loss = np.mean(train_losses)\n",
        "    epoch_val_loss = np.mean(val_losses)\n",
        "\n",
        "    epoch_train_acc = train_acc/len(dataloaders['train'].dataset)\n",
        "    epoch_val_acc = val_acc/len(dataloaders['val'].dataset)\n",
        "\n",
        "    epoch_tr_loss.append(epoch_train_loss)\n",
        "    epoch_vl_loss.append(epoch_val_loss)\n",
        "    epoch_tr_acc.append(epoch_train_acc)\n",
        "    epoch_vl_acc.append(epoch_val_acc)\n",
        "    print(f'Epoch {epoch+1}')\n",
        "    print(f'train_loss : {epoch_train_loss:.4} val_loss : {epoch_val_loss:.4}')\n",
        "    print(f'train_accuracy : {epoch_train_acc*100:.4} val_accuracy : {epoch_val_acc*100:.4}')\n",
        "    print(25*'==')"
      ]
    },
    {
      "cell_type": "code",
      "execution_count": 77,
      "metadata": {
        "id": "jaQpLABaZ1V_"
      },
      "outputs": [],
      "source": [
        "def show_plots(num_epochs, train_data, val_data, metric):\n",
        "  e = np.arange(num_epochs)\n",
        "  plt.plot(e, train_data, label='Train '+metric)\n",
        "  plt.plot(e, val_data, label='Validation '+metric)\n",
        "  plt.xlabel('epoch')\n",
        "  plt.ylabel(metric)\n",
        "  plt.legend()"
      ]
    },
    {
      "cell_type": "code",
      "execution_count": 78,
      "metadata": {
        "colab": {
          "base_uri": "https://localhost:8080/",
          "height": 450
        },
        "id": "2hwOZmqUaFAP",
        "outputId": "0bf1886d-ce87-4fd5-c826-dc60b2fd8bf9"
      },
      "outputs": [
        {
          "data": {
            "image/png": "[encoded data removed]",
            "text/plain": [
              "<Figure size 640x480 with 1 Axes>"
            ]
          },
          "metadata": {},
          "output_type": "display_data"
        }
      ],
      "source": [
        "show_plots(epochs, epoch_tr_loss, epoch_vl_loss, 'Loss')"
      ]
    },
    {
      "cell_type": "code",
      "execution_count": 79,
      "metadata": {
        "colab": {
          "base_uri": "https://localhost:8080/",
          "height": 454
        },
        "id": "b6Sq8rU4aPrS",
        "outputId": "eba9c101-8049-4542-b52e-71723b3bbb58"
      },
      "outputs": [
        {
          "data": {
            "image/png": "[encoded data removed]",
            "text/plain": [
              "<Figure size 640x480 with 1 Axes>"
            ]
          },
          "metadata": {},
          "output_type": "display_data"
        }
      ],
      "source": [
        "show_plots(epochs, epoch_tr_acc, epoch_vl_acc, 'Accuracy')"
      ]
    },
    {
      "cell_type": "code",
      "execution_count": 80,
      "metadata": {
        "colab": {
          "base_uri": "https://localhost:8080/"
        },
        "id": "oSVNw6SiXihW",
        "outputId": "55342e29-94f9-4315-fa6b-19e216336070"
      },
      "outputs": [
        {
          "name": "stdout",
          "output_type": "stream",
          "text": [
            "test_loss : 0.35119199752807617 test_accuracy : 87.30624999999999\n"
          ]
        }
      ],
      "source": [
        "test_losses = []\n",
        "test_acc = 0.0\n",
        "model.eval()\n",
        "for inputs, labels in dataloaders['test']:\n",
        "\n",
        "        inputs, labels = inputs.to(device), labels.to(device)\n",
        "\n",
        "        output, val_h = model(inputs)\n",
        "        test_loss = criterion(output.squeeze(), labels.float())\n",
        "\n",
        "        test_losses.append(val_loss.item())\n",
        "\n",
        "        accuracy = acc(output,labels)\n",
        "        test_acc += accuracy\n",
        "\n",
        "total_test_loss = np.mean(test_losses)\n",
        "\n",
        "total_train_acc = train_acc/len(dataloaders['test'].dataset)\n",
        "\n",
        "print(f'test_loss : {total_test_loss} test_accuracy : {total_train_acc*100}')"
      ]
    },
    {
      "cell_type": "code",
      "execution_count": 81,
      "metadata": {
        "id": "QqVC6-S8Tn9r"
      },
      "outputs": [],
      "source": [
        "import sklearn\n",
        "def plot_confusionmatrix(y_pred, y_true, classes):\n",
        "  print('Confusion matrix')\n",
        "  cf = sklearn.metrics.confusion_matrix(y_pred, y_true, labels=np.arange(len(classes)))\n",
        "  sns.heatmap(cf,annot=True,yticklabels=classes, xticklabels=classes, cmap='Blues', fmt='g')\n",
        "  plt.tight_layout()\n",
        "  plt.show()"
      ]
    },
    {
      "cell_type": "code",
      "execution_count": 82,
      "metadata": {
        "colab": {
          "base_uri": "https://localhost:8080/",
          "height": 504
        },
        "id": "8EYyK5ehYdOR",
        "outputId": "4b9b2857-e4da-4064-b698-3763a33ed1b4"
      },
      "outputs": [
        {
          "name": "stdout",
          "output_type": "stream",
          "text": [
            "Confusion matrix\n"
          ]
        },
        {
          "data": {
            "image/png": "[encoded data removed]",
            "text/plain": [
              "<Figure size 640x480 with 2 Axes>"
            ]
          },
          "metadata": {},
          "output_type": "display_data"
        }
      ],
      "source": [
        "classes = ['negative', 'positive']\n",
        "\n",
        "def report(model, loader, device, classes):\n",
        "\n",
        "  # Each epoch has a training and validation phase\n",
        "  model.eval()   # Set model to evaluate mode\n",
        "\n",
        "  y_pred = []\n",
        "  y_true = []\n",
        "\n",
        "  # Iterate over data.\n",
        "  for inputs, labels in loader:\n",
        "    inputs = inputs.to(device)\n",
        "    labels = labels.type(torch.LongTensor)\n",
        "\n",
        "    # forward\n",
        "    # track history if only in train\n",
        "    with torch.set_grad_enabled(False):\n",
        "      outputs, _ = model(inputs)\n",
        "      pred = torch.round(outputs.squeeze())\n",
        "      y_pred.extend(pred.cpu())\n",
        "      y_true.extend(labels.squeeze())\n",
        "\n",
        "  plot_confusionmatrix(y_pred, y_true, classes)\n",
        "\n",
        "report(model, dataloaders['test'], device, classes)"
      ]
    },
    {
      "cell_type": "markdown",
      "metadata": {
        "id": "JLv5V3DYZ8Cs"
      },
      "source": [
        "## References\n",
        "\n",
        "- [kaggle](https://www.kaggle.com/code/arunmohan003/sentiment-analysis-using-lstm-pytorch)"
      ]
    }
  ],
  "metadata": {
    "accelerator": "GPU",
    "colab": {
      "collapsed_sections": [
        "I44zC-xvHlMA",
        "97npt38AHmeG",
        "LkG3yH-pHpM9",
        "iZ0KcfjJISHg",
        "N3DfTyhGIF2P",
        "eOzchEUJ0k2E"
      ],
      "gpuType": "T4",
      "provenance": []
    },
    "kernelspec": {
      "display_name": "Python 3",
      "name": "python3"
    },
    "language_info": {
      "codemirror_mode": {
        "name": "ipython",
        "version": 3
      },
      "file_extension": ".py",
      "mimetype": "text/x-python",
      "name": "python",
      "nbconvert_exporter": "python",
      "pygments_lexer": "ipython3",
      "version": "3.12.2"
    }
  },
  "nbformat": 4,
  "nbformat_minor": 0
}

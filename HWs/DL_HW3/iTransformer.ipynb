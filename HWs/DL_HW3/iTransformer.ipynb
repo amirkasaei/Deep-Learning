{
  "nbformat": 4,
  "nbformat_minor": 0,
  "metadata": {
    "colab": {
      "provenance": []
    },
    "kernelspec": {
      "name": "python3",
      "display_name": "Python 3"
    },
    "language_info": {
      "name": "python"
    }
  },
  "cells": [
    {
      "cell_type": "code",
      "execution_count": 1,
      "metadata": {
        "id": "fA9aub5K5cnC"
      },
      "outputs": [],
      "source": [
        "import numpy as np\n",
        "import pandas as pd\n",
        "import matplotlib.pyplot as plt\n",
        "import torch\n",
        "import torch.nn as nn\n",
        "import torch.nn.functional as F\n",
        "import math\n",
        "import torch.optim as optim\n",
        "from torch.utils.data import Dataset, DataLoader\n",
        "from sklearn.metrics import mean_squared_error, mean_absolute_error\n",
        "from sklearn.model_selection import train_test_split"
      ]
    },
    {
      "cell_type": "code",
      "source": [
        "data_path = 'path_to_dataset'\n",
        "\n",
        "with open(data_path, 'r') as file:\n",
        "    lines = file.readlines()\n",
        "\n",
        "# Split each line into individual exchange rates\n",
        "data = [line.strip().split(',') for line in lines]\n",
        "\n",
        "# Create a DataFrame\n",
        "df = pd.DataFrame(data)\n",
        "\n",
        "# Assign column names\n",
        "column_names = ['Australia', 'British', 'Canada', 'Switzerland', 'China', 'Japan', 'New Zealand', 'Singapore']\n",
        "df.columns = column_names\n",
        "\n",
        "# Optionally, convert exchange rates to numeric values\n",
        "df = df.astype(float)\n",
        "\n",
        "# Print the first few rows of the DataFrame\n",
        "print(df.head())"
      ],
      "metadata": {
        "id": "eR-DW6bz6SbL"
      },
      "execution_count": null,
      "outputs": []
    },
    {
      "cell_type": "code",
      "source": [
        "# Plotting the exchange rates over time\n",
        "plt.figure(figsize=(12, 6))\n",
        "\n",
        "# Plot each currency exchange rate\n",
        "for currency in df.columns:\n",
        "    plt.plot(df.index, df[currency], label=currency)\n",
        "\n",
        "plt.title('Exchange Rates Over Time')\n",
        "plt.xlabel('Time')\n",
        "plt.ylabel('Exchange Rate')\n",
        "plt.legend()\n",
        "plt.grid(True)\n",
        "plt.show()"
      ],
      "metadata": {
        "id": "K5QVPP9X-EG0"
      },
      "execution_count": null,
      "outputs": []
    },
    {
      "cell_type": "code",
      "source": [
        "# Box plot of exchange rates for each currency\n",
        "plt.figure(figsize=(10, 6))\n",
        "df.boxplot()\n",
        "plt.title('Distribution of Exchange Rates for Each Currency')\n",
        "plt.ylabel('Exchange Rate')\n",
        "plt.xticks(rotation=45)\n",
        "plt.show()"
      ],
      "metadata": {
        "id": "7PHK024S-WHi"
      },
      "execution_count": null,
      "outputs": []
    },
    {
      "cell_type": "code",
      "source": [
        "# Get the size of the dataset\n",
        "num_rows, num_columns = df.shape\n",
        "print(\"Number of rows:\", num_rows)\n",
        "print(\"Number of columns:\", num_columns)"
      ],
      "metadata": {
        "id": "3rXN5wZw_BEh"
      },
      "execution_count": null,
      "outputs": []
    },
    {
      "cell_type": "code",
      "source": [
        "# Define custom dataset class\n",
        "class ExchangeRateDataset(Dataset):\n",
        "    def __init__(self, data, input_len, output_len):\n",
        "        self.data = data\n",
        "        self.input_len = input_len\n",
        "        self.output_len = output_len\n",
        "\n",
        "    def __len__(self):\n",
        "        return len(self.data) - (self.input_len + self.output_len) + 1\n",
        "\n",
        "    def __getitem__(self, idx):\n",
        "        idx_end = idx + self.input_len\n",
        "        input_seq = self.data[idx:idx_end]\n",
        "        output_seq = self.data[idx_end:idx_end+self.output_len]\n",
        "        return input_seq, output_seq"
      ],
      "metadata": {
        "id": "j43-7YKfDHDi"
      },
      "execution_count": 7,
      "outputs": []
    },
    {
      "cell_type": "code",
      "source": [
        "# Create DataLoader for train and test sets\n",
        "input_dim = 10  # Lookback time series length\n",
        "output_dim = 1  # Predicted length\n",
        "batch_size = 64\n",
        "data = df.values\n",
        "train_data, test_data = train_test_split(data, test_size=0.2, shuffle=False)\n",
        "\n",
        "train_dataset = ExchangeRateDataset(train_data, input_dim, output_dim)\n",
        "train_loader = DataLoader(train_dataset, batch_size=batch_size, shuffle=True)\n",
        "\n",
        "test_dataset = ExchangeRateDataset(test_data, input_dim, output_dim)\n",
        "test_loader = DataLoader(test_dataset, batch_size=batch_size, shuffle=False)"
      ],
      "metadata": {
        "id": "gldw-UstF2nw"
      },
      "execution_count": 8,
      "outputs": []
    },
    {
      "cell_type": "code",
      "source": [
        "#specify the variables you need\n",
        "#############################################\n",
        "##################TO DO######################\n",
        "#############################################"
      ],
      "metadata": {
        "id": "aaDjihAPz9wW"
      },
      "execution_count": null,
      "outputs": []
    },
    {
      "cell_type": "code",
      "source": [
        "# Define custom Transformer model\n",
        "class TransformerModel(nn.Module):\n",
        "    def __init__(self, ):\n",
        "        super(TransformerModel, self).__init__()\n",
        "#############################################\n",
        "##################TO DO######################\n",
        "#############################################\n",
        "\n",
        "\n",
        "model = TransformerModel()\n",
        "criterion = nn.MSELoss()\n",
        "optimizer = optim.Adam(model.parameters(), lr=lr)"
      ],
      "metadata": {
        "id": "SxY8Fy42UlhN"
      },
      "execution_count": null,
      "outputs": []
    },
    {
      "cell_type": "code",
      "source": [
        "# Training loop and report loss in each epoch\n",
        "#############################################\n",
        "##################TO DO######################\n",
        "#############################################"
      ],
      "metadata": {
        "id": "8CHQNL9vGOrR"
      },
      "execution_count": null,
      "outputs": []
    },
    {
      "cell_type": "code",
      "source": [
        "#Test loop and report MSE and MAE metrics\n",
        "#############################################\n",
        "##################TO DO######################\n",
        "#############################################"
      ],
      "metadata": {
        "id": "x6baSY6KKJ9Y"
      },
      "execution_count": null,
      "outputs": []
    },
    {
      "cell_type": "code",
      "source": [
        "class iTransformerModel(nn.Module):\n",
        "    def __init__(self, ):\n",
        "        super(iTransformerModel, self).__init__()\n",
        "#############################################\n",
        "##################TO DO######################\n",
        "#############################################\n",
        "\n",
        "\n",
        "i_model = iTransformerModel()\n",
        "criterion = nn.MSELoss()\n",
        "optimizer = optim.Adam(i_model.parameters(), lr=lr)"
      ],
      "metadata": {
        "id": "lMrQW4tKTxmf"
      },
      "execution_count": null,
      "outputs": []
    },
    {
      "cell_type": "code",
      "source": [
        "# Training loop and report loss in each epoch\n",
        "#############################################\n",
        "##################TO DO######################\n",
        "#############################################"
      ],
      "metadata": {
        "id": "edy1yHqdT7Vn"
      },
      "execution_count": null,
      "outputs": []
    },
    {
      "cell_type": "code",
      "source": [
        "#Test loop and report MSE and MAE metrics\n",
        "#############################################\n",
        "##################TO DO######################\n",
        "#############################################"
      ],
      "metadata": {
        "id": "W8DxF_19hL1X"
      },
      "execution_count": null,
      "outputs": []
    },
    {
      "cell_type": "markdown",
      "source": [
        "Which one record a better performance?"
      ],
      "metadata": {
        "id": "t-AO_4R02NWq"
      }
    },
    {
      "cell_type": "code",
      "source": [],
      "metadata": {
        "id": "KTJh87OI3WWr"
      },
      "execution_count": null,
      "outputs": []
    }
  ]
}